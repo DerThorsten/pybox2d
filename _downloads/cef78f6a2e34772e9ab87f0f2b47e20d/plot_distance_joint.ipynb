{
  "cells": [
    {
      "cell_type": "code",
      "execution_count": null,
      "metadata": {
        "collapsed": false
      },
      "outputs": [],
      "source": [
        "%matplotlib inline"
      ]
    },
    {
      "cell_type": "markdown",
      "metadata": {},
      "source": [
        "\n# Distance Joint\n\nCreate distance joints\n"
      ]
    },
    {
      "cell_type": "markdown",
      "metadata": {},
      "source": [
        "Imports\n\n"
      ]
    },
    {
      "cell_type": "code",
      "execution_count": null,
      "metadata": {
        "collapsed": false
      },
      "outputs": [],
      "source": [
        "import b2d\nimport numpy as np\nimport b2d.plot\nimport matplotlib.pyplot as plt"
      ]
    },
    {
      "cell_type": "markdown",
      "metadata": {},
      "source": [
        "Create distance joints between a static anchor\nand a body directly below the anchor.\nWe create 10 distance joints with various\nvalues for the stiffness\n\n"
      ]
    },
    {
      "cell_type": "code",
      "execution_count": null,
      "metadata": {
        "collapsed": false
      },
      "outputs": [],
      "source": [
        "world = b2d.world(gravity=(0, -10))\n\nfor i in range(10):\n\n    # create static anchor (does not need shape/fixture)\n    anchor = world.create_static_body(position=(i, 0))\n\n    # 5 below the anchor\n    body = world.create_dynamic_body(\n        position=(i, -10),\n        fixtures=b2d.fixture_def(shape=b2d.circle_shape(radius=0.4), density=0.5),\n    )\n\n    # distance joints of various stiffness-es\n    world.create_distance_joint(anchor, body, length=10, stiffness=0.5 * (i + 1))\n\nfig, ax, ani = b2d.plot.animate_world(world, world_margin=(10, 10), t=5)\nani\nplt.title(\"increasing stiffness from left to right\")\nplt.show()"
      ]
    },
    {
      "cell_type": "markdown",
      "metadata": {},
      "source": [
        "Here we vary the damping of the distance joint\n\n"
      ]
    },
    {
      "cell_type": "code",
      "execution_count": null,
      "metadata": {
        "collapsed": false
      },
      "outputs": [],
      "source": [
        "world = b2d.world(gravity=(0, -10))\n\nfor i in range(10):\n\n    # create static anchor (does not need shape/fixture)\n    anchor = world.create_static_body(position=(i, 0))\n\n    # 5 below the anchor\n    body = world.create_dynamic_body(\n        position=(i, -10),\n        fixtures=b2d.fixture_def(shape=b2d.circle_shape(radius=0.4), density=0.5),\n    )\n\n    # distance joints of various stiffness-es\n    world.create_distance_joint(anchor, body, length=10, stiffness=2, damping=0.05 * i)\n\nfig, ax, ani = b2d.plot.animate_world(world, world_margin=(10, 10), t=5)\nani\nplt.title(\"increasing damping from left to right\")\nplt.show()"
      ]
    },
    {
      "cell_type": "markdown",
      "metadata": {},
      "source": [
        "Distance joints can be used to create wobbly structures\n\n"
      ]
    },
    {
      "cell_type": "code",
      "execution_count": null,
      "metadata": {
        "collapsed": false
      },
      "outputs": [],
      "source": [
        "world = b2d.world(gravity=(0, -10))\n\n# Create a ground body\nedge = world.create_static_body(\n    position=(0, 0), fixtures=b2d.fixture_def(shape=b2d.edge_shape([(-10, 0), (10, 0)]))\n)\n\n# create 3 bodies\na = world.create_dynamic_body(\n    position=(-3, 4),\n    fixtures=b2d.fixture_def(shape=b2d.circle_shape(radius=1), density=1),\n)\nb = world.create_dynamic_body(\n    position=(3, 4),\n    fixtures=b2d.fixture_def(shape=b2d.circle_shape(radius=1), density=1),\n)\nc = world.create_dynamic_body(\n    position=(0, 8),\n    fixtures=b2d.fixture_def(shape=b2d.circle_shape(radius=1), density=1),\n)\n\n# connect bodies with distance joints\ndistance_joint_def = dict(length=5, stiffness=100)\nworld.create_distance_joint(a, b, **distance_joint_def)\nworld.create_distance_joint(a, c, **distance_joint_def)\nworld.create_distance_joint(b, c, **distance_joint_def)\n\nfig, ax, ani = b2d.plot.animate_world(world, world_margin=(10, 10))\nani\nplt.show()"
      ]
    }
  ],
  "metadata": {
    "kernelspec": {
      "display_name": "Python 3",
      "language": "python",
      "name": "python3"
    },
    "language_info": {
      "codemirror_mode": {
        "name": "ipython",
        "version": 3
      },
      "file_extension": ".py",
      "mimetype": "text/x-python",
      "name": "python",
      "nbconvert_exporter": "python",
      "pygments_lexer": "ipython3",
      "version": "3.8.10"
    }
  },
  "nbformat": 4,
  "nbformat_minor": 0
}