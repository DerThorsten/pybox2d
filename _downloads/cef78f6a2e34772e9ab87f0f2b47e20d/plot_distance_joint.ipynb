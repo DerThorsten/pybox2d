{
  "cells": [
    {
      "cell_type": "code",
      "execution_count": null,
      "metadata": {
        "collapsed": false
      },
      "outputs": [],
      "source": [
        "%matplotlib inline"
      ]
    },
    {
      "cell_type": "markdown",
      "metadata": {},
      "source": [
        "\n# Distance Joint\n\nCreate distance joints\n"
      ]
    },
    {
      "cell_type": "markdown",
      "metadata": {},
      "source": [
        "## Imports\n\npyb2d is imported as `b2d`\n\n"
      ]
    },
    {
      "cell_type": "code",
      "execution_count": null,
      "metadata": {
        "collapsed": false
      },
      "outputs": [],
      "source": [
        "import b2d\nimport numpy as np"
      ]
    },
    {
      "cell_type": "markdown",
      "metadata": {},
      "source": [
        "These imports are only needed for plotting.\n`b2d.plot` requires OpenCV to be installed!\n\n"
      ]
    },
    {
      "cell_type": "code",
      "execution_count": null,
      "metadata": {
        "collapsed": false
      },
      "outputs": [],
      "source": [
        "import b2d.plot\nimport matplotlib.pyplot as plt"
      ]
    },
    {
      "cell_type": "markdown",
      "metadata": {},
      "source": [
        "The first step with Box2D is the creation\nof the world. The world is parametrized by a gravity\nvector.\n\n"
      ]
    },
    {
      "cell_type": "code",
      "execution_count": null,
      "metadata": {
        "collapsed": false
      },
      "outputs": [],
      "source": [
        "# the world\nworld = b2d.world(gravity=(0, -10))"
      ]
    },
    {
      "cell_type": "markdown",
      "metadata": {},
      "source": [
        "Create a ground body\n\n"
      ]
    },
    {
      "cell_type": "code",
      "execution_count": null,
      "metadata": {
        "collapsed": false
      },
      "outputs": [],
      "source": [
        "edge = world.create_static_body(\n    position=(0, 0),\n    fixtures=b2d.fixture_def(shape=b2d.edge_shape([(-10, 0), (10, 0)])),\n)"
      ]
    },
    {
      "cell_type": "markdown",
      "metadata": {},
      "source": [
        "create 3 bodies\n\n"
      ]
    },
    {
      "cell_type": "code",
      "execution_count": null,
      "metadata": {
        "collapsed": false
      },
      "outputs": [],
      "source": [
        "a = world.create_dynamic_body(\n    position=(-3, 4),\n    fixtures=b2d.fixture_def(shape=b2d.circle_shape(radius=1), density=1),\n)\nb = world.create_dynamic_body(\n    position=(3, 4),\n    fixtures=b2d.fixture_def(shape=b2d.circle_shape(radius=1), density=1),\n)\nc = world.create_dynamic_body(\n    position=(0, 8),\n    fixtures=b2d.fixture_def(shape=b2d.circle_shape(radius=1), density=1),\n)"
      ]
    },
    {
      "cell_type": "markdown",
      "metadata": {},
      "source": [
        "connect bodies with distance joints\n\n"
      ]
    },
    {
      "cell_type": "code",
      "execution_count": null,
      "metadata": {
        "collapsed": false
      },
      "outputs": [],
      "source": [
        "distance_joint_def = dict(length=5, stiffness=100)\nworld.create_distance_joint(a, b, **distance_joint_def)\nworld.create_distance_joint(a, c, **distance_joint_def)\nworld.create_distance_joint(b, c, **distance_joint_def)\n\nfig, ax, ani = b2d.plot.animate_world(world, world_margin=(10, 10))\nani\nplt.show()"
      ]
    }
  ],
  "metadata": {
    "kernelspec": {
      "display_name": "Python 3",
      "language": "python",
      "name": "python3"
    },
    "language_info": {
      "codemirror_mode": {
        "name": "ipython",
        "version": 3
      },
      "file_extension": ".py",
      "mimetype": "text/x-python",
      "name": "python",
      "nbconvert_exporter": "python",
      "pygments_lexer": "ipython3",
      "version": "3.8.10"
    }
  },
  "nbformat": 4,
  "nbformat_minor": 0
}