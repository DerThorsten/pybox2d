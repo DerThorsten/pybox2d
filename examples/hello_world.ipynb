{
 "cells": [
  {
   "cell_type": "code",
   "execution_count": 15,
   "id": "5d8f3e25-a5f1-41be-a39d-021574c4c5e4",
   "metadata": {},
   "outputs": [
    {
     "name": "stdout",
     "output_type": "stream",
     "text": [
      "(0.000000,0.000000)\n",
      "(0.000000,-0.025000)\n",
      "(0.000000,-0.075000)\n",
      "(0.000000,-0.150000)\n",
      "(0.000000,-0.250000)\n",
      "(0.000000,-0.375000)\n",
      "(0.000000,-0.525000)\n",
      "(0.000000,-0.700000)\n",
      "(0.000000,-0.900000)\n",
      "(0.000000,-1.125000)\n"
     ]
    }
   ],
   "source": [
    "import b2d\n",
    "\n",
    "world = b2d.world(gravity=(0,-10))\n",
    "body = world.create_dynamic_body(\n",
    "    position=(0,0),\n",
    "    fixtures=b2d.fixture_def(\n",
    "        shape=b2d.circle_shape(radius=1),\n",
    "        density=1\n",
    "    )\n",
    ")\n",
    "for i in range(10):\n",
    "    print(body.position)\n",
    "    world.step(1/20,1,1)"
   ]
  }
 ],
 "metadata": {
  "kernelspec": {
   "display_name": "Python 3 (ipykernel)",
   "language": "python",
   "name": "python3"
  },
  "language_info": {
   "codemirror_mode": {
    "name": "ipython",
    "version": 3
   },
   "file_extension": ".py",
   "mimetype": "text/x-python",
   "name": "python",
   "nbconvert_exporter": "python",
   "pygments_lexer": "ipython3",
   "version": "3.9.7"
  }
 },
 "nbformat": 4,
 "nbformat_minor": 5
}
