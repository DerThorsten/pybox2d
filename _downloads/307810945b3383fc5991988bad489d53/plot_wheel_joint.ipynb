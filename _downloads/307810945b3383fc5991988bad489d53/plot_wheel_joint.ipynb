{
  "cells": [
    {
      "cell_type": "markdown",
      "metadata": {},
      "source": [
        "\n# Wheel Joint\n\nCreate a car with two wheel and wheel joints\n\nUses:\n    * :class:`b2d.WheelJointDef`\n    * :class:`b2d.WheelJoint`\n"
      ]
    },
    {
      "cell_type": "markdown",
      "metadata": {},
      "source": [
        "## Imports\n\npyb2d is imported as `b2d`\n\n"
      ]
    },
    {
      "cell_type": "code",
      "execution_count": null,
      "metadata": {
        "collapsed": false
      },
      "outputs": [],
      "source": [
        "import b2d\nimport numpy as np"
      ]
    },
    {
      "cell_type": "markdown",
      "metadata": {},
      "source": [
        "These imports are only needed for plotting.\n`b2d.plot` requires OpenCV to be installed!\n\n"
      ]
    },
    {
      "cell_type": "code",
      "execution_count": null,
      "metadata": {
        "collapsed": false
      },
      "outputs": [],
      "source": [
        "import b2d.plot\nimport matplotlib.pyplot as plt"
      ]
    },
    {
      "cell_type": "markdown",
      "metadata": {},
      "source": [
        "The world and ground body\n\n"
      ]
    },
    {
      "cell_type": "code",
      "execution_count": null,
      "metadata": {
        "collapsed": false
      },
      "outputs": [],
      "source": [
        "world = b2d.world(gravity=(0, -10))\nedge = world.create_static_body(\n    position=(0, 0), fixtures=b2d.fixture_def(shape=b2d.edge_shape([(-20, 0), (5, 0)]))\n)\n\n# random slope\nx = np.linspace(5, 50, 10)\ny = np.random.rand(10) * 4 - 2\ny[0] = 0\nxy = np.stack([x, y]).T\nxy = np.flip(xy, axis=0)\nedge = world.create_static_body(\n    position=(0, 0),\n    fixtures=b2d.fixture_def(shape=b2d.chain_shape(xy, prev_vertex=(10, 0))),\n)"
      ]
    },
    {
      "cell_type": "markdown",
      "metadata": {},
      "source": [
        "create car\n\n"
      ]
    },
    {
      "cell_type": "code",
      "execution_count": null,
      "metadata": {
        "collapsed": false
      },
      "outputs": [],
      "source": [
        "left_wheel = world.create_dynamic_body(\n    position=(-3, 2),\n    fixtures=b2d.fixture_def(shape=b2d.circle_shape(radius=2), density=1),\n)\nright_wheel = world.create_dynamic_body(\n    position=(3, 2),\n    fixtures=b2d.fixture_def(shape=b2d.circle_shape(radius=2), density=1),\n)\n\nchasis = world.create_dynamic_body(\n    position=(0, 2),\n    fixtures=b2d.fixture_def(shape=b2d.polygon_shape(box=[3, 0.5]), density=1),\n)\n\nwheel_joint_def = dict(\n    stiffness=10,\n    enable_motor=True,\n    motor_speed=-100,\n    max_motor_torque=100,\n    collide_connected=False,\n    enable_limit=True,\n    lower_translation=-0.4,\n    upper_translation=0.4,\n    local_axis_a=(0, 1),\n)\nworld.create_wheel_joint(chasis, left_wheel, local_anchor_a=(-3, 0), **wheel_joint_def)\nworld.create_wheel_joint(chasis, right_wheel, local_anchor_a=(3, 0), **wheel_joint_def)\n\nfig, ax, ani = b2d.plot.animate_world(world, world_margin=(10, 10), t=5)\nani\nplt.show()"
      ]
    }
  ],
  "metadata": {
    "kernelspec": {
      "display_name": "Python 3",
      "language": "python",
      "name": "python3"
    },
    "language_info": {
      "codemirror_mode": {
        "name": "ipython",
        "version": 3
      },
      "file_extension": ".py",
      "mimetype": "text/x-python",
      "name": "python",
      "nbconvert_exporter": "python",
      "pygments_lexer": "ipython3",
      "version": "3.10.6"
    }
  },
  "nbformat": 4,
  "nbformat_minor": 0
}