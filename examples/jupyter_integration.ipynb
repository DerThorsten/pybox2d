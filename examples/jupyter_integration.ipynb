{
 "cells": [
  {
   "cell_type": "code",
   "execution_count": 1,
   "id": "ed27b2aa",
   "metadata": {},
   "outputs": [],
   "source": [
    "from b2d.testbed.backend.jupyter import JupyterGui\n",
    "import ipywidgets\n",
    "import ipycanvas\n",
    "import b2d"
   ]
  },
  {
   "cell_type": "code",
   "execution_count": null,
   "id": "e691f962",
   "metadata": {},
   "outputs": [],
   "source": [
    "from plot_newtons_cradle import NewtonsCradle  as Example\n",
    "Example.run(JupyterGui)"
   ]
  },
  {
   "cell_type": "code",
   "execution_count": 2,
   "id": "2db8e245-935e-4584-8d07-e7108359bfc1",
   "metadata": {},
   "outputs": [
    {
     "data": {
      "application/vnd.jupyter.widget-view+json": {
       "model_id": "a54fcb23623f4bfbaf4afedd4c622510",
       "version_major": 2,
       "version_minor": 0
      },
      "text/plain": [
       "Output()"
      ]
     },
     "metadata": {},
     "output_type": "display_data"
    },
    {
     "name": "stdout",
     "output_type": "stream",
     "text": [
      "AngryShapes.Settings(substeps=2, n_velocity_steps=1, n_position_iterations=1)\n"
     ]
    }
   ],
   "source": [
    "from plot_angry_shapes import AngryShapes  as Example\n",
    "settings = JupyterGui.Settings(fps=30)\n",
    "Example.run(JupyterGui)"
   ]
  },
  {
   "cell_type": "code",
   "execution_count": null,
   "id": "cad51a6b",
   "metadata": {},
   "outputs": [],
   "source": [
    "from plot_blender import Blender  as Example\n",
    "Example.run(JupyterGui)"
   ]
  },
  {
   "cell_type": "code",
   "execution_count": null,
   "id": "1fa74c6a",
   "metadata": {},
   "outputs": [],
   "source": [
    "from plot_gauss_machine import GaussMachine  as Example\n",
    "Example.run(JupyterGui)"
   ]
  },
  {
   "cell_type": "code",
   "execution_count": null,
   "id": "61148397",
   "metadata": {},
   "outputs": [],
   "source": [
    "from plot_color_mixing import ColorMixing  as Example\n",
    "Example.run(JupyterGui)"
   ]
  },
  {
   "cell_type": "code",
   "execution_count": null,
   "id": "3e56f480",
   "metadata": {},
   "outputs": [],
   "source": [
    "from plot_function_shape import FunctionShape  as Example\n",
    "Example.run(JupyterGui)"
   ]
  }
 ],
 "metadata": {
  "kernelspec": {
   "display_name": "Python 3 (ipykernel)",
   "language": "python",
   "name": "python3"
  },
  "language_info": {
   "codemirror_mode": {
    "name": "ipython",
    "version": 3
   },
   "file_extension": ".py",
   "mimetype": "text/x-python",
   "name": "python",
   "nbconvert_exporter": "python",
   "pygments_lexer": "ipython3",
   "version": "3.9.7"
  }
 },
 "nbformat": 4,
 "nbformat_minor": 5
}
