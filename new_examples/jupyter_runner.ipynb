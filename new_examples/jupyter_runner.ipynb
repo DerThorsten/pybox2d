{
 "cells": [
  {
   "cell_type": "code",
   "execution_count": 3,
   "id": "a5fbda2c-57bf-475e-a154-71203add6efd",
   "metadata": {},
   "outputs": [
    {
     "data": {
      "application/vnd.jupyter.widget-view+json": {
       "model_id": "ba27069932764fe097b6939402a5e2f8",
       "version_major": 2,
       "version_minor": 0
      },
      "text/plain": [
       "Output()"
      ]
     },
     "metadata": {},
     "output_type": "display_data"
    }
   ],
   "source": [
    "from function_shape import FuncShape\n",
    "\n",
    "from testbed.backend.jupyter import JupyterGui\n",
    "res = (1000,400)\n",
    "gui_settings = {\n",
    "    \"fps\" : 30,\n",
    "    \"scale\" : 10,\n",
    "    \"translate\" : (res[1]*1/3, res[1]*2/3),\n",
    "    \"resolution\" :res,\n",
    "    \"line_width\": 3\n",
    "}\n",
    "FuncShape.run(JupyterGui, gui_settings=gui_settings)\n"
   ]
  }
 ],
 "metadata": {
  "kernelspec": {
   "display_name": "Python 3 (ipykernel)",
   "language": "python",
   "name": "python3"
  },
  "language_info": {
   "codemirror_mode": {
    "name": "ipython",
    "version": 3
   },
   "file_extension": ".py",
   "mimetype": "text/x-python",
   "name": "python",
   "nbconvert_exporter": "python",
   "pygments_lexer": "ipython3",
   "version": "3.9.7"
  }
 },
 "nbformat": 4,
 "nbformat_minor": 5
}
