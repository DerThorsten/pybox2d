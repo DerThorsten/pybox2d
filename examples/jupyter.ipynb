{
 "cells": [
  {
   "cell_type": "code",
   "execution_count": 6,
   "id": "00cd4547-2bb3-4fb2-aeda-196f6460ef7a",
   "metadata": {},
   "outputs": [
    {
     "name": "stdout",
     "output_type": "stream",
     "text": [
      "<class 'gauss_machine.GaussMachine'>\n"
     ]
    },
    {
     "data": {
      "application/vnd.jupyter.widget-view+json": {
       "model_id": "cee343180d3a474b85f87ef7c7f257c5",
       "version_major": 2,
       "version_minor": 0
      },
      "text/plain": [
       "Output()"
      ]
     },
     "metadata": {},
     "output_type": "display_data"
    },
    {
     "data": {
      "text/plain": [
       "(<gauss_machine.GaussMachine at 0x7fd4203638b0>,\n",
       " <b2d.testbed.backend.jupyter.jupyter_gui.JupyterGui at 0x7fd420131ca0>)"
      ]
     },
     "execution_count": 6,
     "metadata": {},
     "output_type": "execute_result"
    }
   ],
   "source": [
    "from gauss_machine import GaussMachine  as Example\n",
    "from b2d.testbed.backend.jupyter import JupyterGui\n",
    "res = (400,400)\n",
    "gui_settings = {\n",
    "    \"fps\" : 30,\n",
    "    \"scale\" : 10,\n",
    "    \"translate\" : (50, 370),\n",
    "    \"resolution\" :res,\n",
    "    \"line_width\": 3,\n",
    "    \"id\": Example\n",
    "}\n",
    "Example.run(JupyterGui, gui_settings=gui_settings)"
   ]
  },
  {
   "cell_type": "code",
   "execution_count": 7,
   "id": "bbb421bb-5263-49fc-8cfa-9d3ceca47c12",
   "metadata": {},
   "outputs": [
    {
     "name": "stdout",
     "output_type": "stream",
     "text": [
      "<class 'color_mixing.ColorMixing'>\n"
     ]
    },
    {
     "data": {
      "application/vnd.jupyter.widget-view+json": {
       "model_id": "60269dcda0e64fc68a4044bcd29308a3",
       "version_major": 2,
       "version_minor": 0
      },
      "text/plain": [
       "Output()"
      ]
     },
     "metadata": {},
     "output_type": "display_data"
    },
    {
     "data": {
      "text/plain": [
       "(<color_mixing.ColorMixing at 0x7fd420046f40>,\n",
       " <b2d.testbed.backend.jupyter.jupyter_gui.JupyterGui at 0x7fd420187490>)"
      ]
     },
     "execution_count": 7,
     "metadata": {},
     "output_type": "execute_result"
    }
   ],
   "source": [
    "from color_mixing import ColorMixing  as Example\n",
    "from b2d.testbed.backend.jupyter import JupyterGui\n",
    "res = (400,400)\n",
    "gui_settings = {\n",
    "    \"fps\" : 30,\n",
    "    \"scale\" : 30,\n",
    "    \"translate\" : (50, 370),\n",
    "    \"resolution\" :res,\n",
    "    \"line_width\": 3,\n",
    "    \"id\": Example\n",
    "}\n",
    "Example.run(JupyterGui, gui_settings=gui_settings)"
   ]
  },
  {
   "cell_type": "code",
   "execution_count": 8,
   "id": "da88794e-8fe3-4235-aa11-bd4ac5622b32",
   "metadata": {},
   "outputs": [
    {
     "name": "stdout",
     "output_type": "stream",
     "text": [
      "<class 'function_shape.FunctionShape'>\n"
     ]
    },
    {
     "data": {
      "application/vnd.jupyter.widget-view+json": {
       "model_id": "a19c9d2bd2ca40af87ac99ac1579afaa",
       "version_major": 2,
       "version_minor": 0
      },
      "text/plain": [
       "Output()"
      ]
     },
     "metadata": {},
     "output_type": "display_data"
    },
    {
     "data": {
      "text/plain": [
       "(<function_shape.FunctionShape at 0x7fd420328d10>,\n",
       " <b2d.testbed.backend.jupyter.jupyter_gui.JupyterGui at 0x7fd42003edc0>)"
      ]
     },
     "execution_count": 8,
     "metadata": {},
     "output_type": "execute_result"
    }
   ],
   "source": [
    "from function_shape import FunctionShape  as Example\n",
    "from b2d.testbed.backend.jupyter import JupyterGui\n",
    "res = (400,400)\n",
    "gui_settings = {\n",
    "    \"fps\" : 30,\n",
    "    \"scale\" : 10,\n",
    "    \"translate\" : (0, 200),\n",
    "    \"resolution\" :res,\n",
    "    \"line_width\": 3,\n",
    "    \"id\": Example\n",
    "}\n",
    "Example.run(JupyterGui, gui_settings=gui_settings)"
   ]
  }
 ],
 "metadata": {
  "kernelspec": {
   "display_name": "Python 3 (ipykernel)",
   "language": "python",
   "name": "python3"
  },
  "language_info": {
   "codemirror_mode": {
    "name": "ipython",
    "version": 3
   },
   "file_extension": ".py",
   "mimetype": "text/x-python",
   "name": "python",
   "nbconvert_exporter": "python",
   "pygments_lexer": "ipython3",
   "version": "3.9.7"
  }
 },
 "nbformat": 4,
 "nbformat_minor": 5
}
