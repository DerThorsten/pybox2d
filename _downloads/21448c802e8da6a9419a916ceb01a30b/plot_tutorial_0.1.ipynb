{
  "cells": [
    {
      "cell_type": "markdown",
      "metadata": {},
      "source": [
        "\n# Tutorial 0.1: Hello World\n\nThe same as Tutorial 0.0, but way more pythonic\n"
      ]
    },
    {
      "cell_type": "markdown",
      "metadata": {},
      "source": [
        "## Imports\n\npyb2d is imported as `b2d`\n\n"
      ]
    },
    {
      "cell_type": "code",
      "execution_count": null,
      "metadata": {
        "collapsed": false
      },
      "outputs": [],
      "source": [
        "import b2d\nimport numpy as np"
      ]
    },
    {
      "cell_type": "markdown",
      "metadata": {},
      "source": [
        "These imports are only needed for plotting.\n`b2d.plot` requires OpenCV to be installed!\n\n"
      ]
    },
    {
      "cell_type": "code",
      "execution_count": null,
      "metadata": {
        "collapsed": false
      },
      "outputs": [],
      "source": [
        "import b2d.plot\nimport matplotlib.pyplot as plt"
      ]
    },
    {
      "cell_type": "markdown",
      "metadata": {},
      "source": [
        "The first step with Box2D is the creation\nof the world. The world is parametrized by a gravity\nvector.\n\n"
      ]
    },
    {
      "cell_type": "code",
      "execution_count": null,
      "metadata": {
        "collapsed": false
      },
      "outputs": [],
      "source": [
        "# the world\nworld = b2d.world(gravity=(0, -10))"
      ]
    },
    {
      "cell_type": "markdown",
      "metadata": {},
      "source": [
        "Create a circle-shaped body\n\n"
      ]
    },
    {
      "cell_type": "code",
      "execution_count": null,
      "metadata": {
        "collapsed": false
      },
      "outputs": [],
      "source": [
        "# create the dynamic body\nbody = world.create_dynamic_body(\n    position=(0, 0),\n    fixtures=b2d.fixture_def(shape=b2d.circle_shape(radius=1), density=1),\n)"
      ]
    },
    {
      "cell_type": "markdown",
      "metadata": {},
      "source": [
        "We can now have a look at the world:\nWe render the world st. each meter\nin the Box2D world will be 100 pixels\nin the image:\n\n"
      ]
    },
    {
      "cell_type": "code",
      "execution_count": null,
      "metadata": {
        "collapsed": false
      },
      "outputs": [],
      "source": [
        "pixels_per_meter = 100\nb2d.plot.plot_world(world, ppm=pixels_per_meter)\nplt.show()"
      ]
    },
    {
      "cell_type": "markdown",
      "metadata": {},
      "source": [
        "Lets run the world for a total of 5 seconds.\nUsually one wants to run the world at\na certain frame rate. With the frame rate and\nthe total time we can compute the delta for\neach iteration and how many steps we need\n\n"
      ]
    },
    {
      "cell_type": "code",
      "execution_count": null,
      "metadata": {
        "collapsed": false
      },
      "outputs": [],
      "source": [
        "t = 5\nfps = 40\ndt = 1.0 / fps\nn_steps = int(t / dt + 0.5)\nprint(f\"t={t} fps={fps} dt={dt} n_steps={n_steps}\")"
      ]
    },
    {
      "cell_type": "markdown",
      "metadata": {},
      "source": [
        "in each step we query the bodies position\nand velocity and store then for later plotting\n\n"
      ]
    },
    {
      "cell_type": "code",
      "execution_count": null,
      "metadata": {
        "collapsed": false
      },
      "outputs": [],
      "source": [
        "positions = np.zeros([n_steps, 2])\nvelocites = np.zeros([n_steps, 2])\ntimepoints = np.zeros([n_steps])"
      ]
    },
    {
      "cell_type": "markdown",
      "metadata": {},
      "source": [
        "do it\n\n"
      ]
    },
    {
      "cell_type": "code",
      "execution_count": null,
      "metadata": {
        "collapsed": false
      },
      "outputs": [],
      "source": [
        "t_elapsed = 0.0\nfor i in range(n_steps):\n\n    # get the bodies center of mass\n    positions[i, :] = body.world_center\n\n    # get the bodies velocity\n    velocites[i, :] = body.linear_velocity\n\n    timepoints[i] = t_elapsed\n\n    world.step(time_step=dt, velocity_iterations=1, position_iterations=1)\n    t_elapsed += dt"
      ]
    },
    {
      "cell_type": "markdown",
      "metadata": {},
      "source": [
        "plot the y-position against the time.\nWe can see that the body is falling\ndown in an accelerating way:\n\n"
      ]
    },
    {
      "cell_type": "code",
      "execution_count": null,
      "metadata": {
        "collapsed": false
      },
      "outputs": [],
      "source": [
        "plt.plot(timepoints, positions[:, 1])\nplt.show()"
      ]
    },
    {
      "cell_type": "markdown",
      "metadata": {},
      "source": [
        "as expected the x position is not changing since\nthe gravity vector is non-zero only in the x direction\n\n"
      ]
    },
    {
      "cell_type": "code",
      "execution_count": null,
      "metadata": {
        "collapsed": false
      },
      "outputs": [],
      "source": [
        "plt.plot(timepoints, positions[:, 0])\nplt.show()"
      ]
    }
  ],
  "metadata": {
    "kernelspec": {
      "display_name": "Python 3",
      "language": "python",
      "name": "python3"
    },
    "language_info": {
      "codemirror_mode": {
        "name": "ipython",
        "version": 3
      },
      "file_extension": ".py",
      "mimetype": "text/x-python",
      "name": "python",
      "nbconvert_exporter": "python",
      "pygments_lexer": "ipython3",
      "version": "3.10.6"
    }
  },
  "nbformat": 4,
  "nbformat_minor": 0
}