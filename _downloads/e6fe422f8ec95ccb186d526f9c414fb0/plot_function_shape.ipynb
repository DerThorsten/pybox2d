{
  "cells": [
    {
      "cell_type": "code",
      "execution_count": null,
      "metadata": {
        "collapsed": false
      },
      "outputs": [],
      "source": [
        "%matplotlib inline"
      ]
    },
    {
      "cell_type": "markdown",
      "metadata": {},
      "source": [
        "\n# Function Shape\n\nThis example show how to create a shape from a mathematical function.\nIn this example we use f(x) = sin(x) + log(x) + 5.5\n"
      ]
    },
    {
      "cell_type": "code",
      "execution_count": null,
      "metadata": {
        "collapsed": false
      },
      "outputs": [],
      "source": [
        "from b2d.testbed import TestbedBase\nimport random\nimport numpy\nimport b2d\n\n\nclass FunctionShape(TestbedBase):\n\n    name = \"Function Shape\"\n\n    def __init__(self, settings=None):\n        super(FunctionShape, self).__init__(settings=settings)\n\n        x = numpy.linspace(start=1, stop=30, num=100)\n        y = numpy.sin(x) * numpy.log(x) + 5.5\n        verts = numpy.stack([x, y], -1)\n        verts = numpy.require(verts, requirements=[\"C\"])\n\n        shape = b2d.chain_shape(vertices=numpy.flip(verts, axis=0))\n\n        box = self.world.create_static_body(position=(0, 0), shape=shape)\n\n        for i in range(30):\n            box = self.world.create_dynamic_body(\n                position=(10 + random.random() * 10, random.random() * 10 + 10),\n                shape=b2d.circle_shape(pos=(0, 0), radius=0.7),\n                density=1.0,\n            )\n\n\nif __name__ == \"__main__\":\n\n    ani = b2d.testbed.run(FunctionShape)\n    ani"
      ]
    }
  ],
  "metadata": {
    "kernelspec": {
      "display_name": "Python 3",
      "language": "python",
      "name": "python3"
    },
    "language_info": {
      "codemirror_mode": {
        "name": "ipython",
        "version": 3
      },
      "file_extension": ".py",
      "mimetype": "text/x-python",
      "name": "python",
      "nbconvert_exporter": "python",
      "pygments_lexer": "ipython3",
      "version": "3.8.10"
    }
  },
  "nbformat": 4,
  "nbformat_minor": 0
}