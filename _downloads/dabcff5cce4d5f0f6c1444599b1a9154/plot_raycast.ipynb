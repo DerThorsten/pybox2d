{
  "cells": [
    {
      "cell_type": "markdown",
      "metadata": {},
      "source": [
        "\n# Raycast\n\nThis example shows how to use raycasting\n"
      ]
    },
    {
      "cell_type": "code",
      "execution_count": null,
      "metadata": {
        "collapsed": false
      },
      "outputs": [],
      "source": [
        "from b2d.testbed import TestbedBase\nimport random\nimport numpy as np\nimport b2d\n\n\ndef rand_color():\n    return tuple([random.random() for i in range(3)])\n\n\nclass RayCastCallback(b2d.RayCastCallback):\n    def __init__(self):\n        super(RayCastCallback, self).__init__()\n        self._touched_circles = []\n\n    def report_fixture(self, fixture, point, normal, fraction):\n        user_data = fixture.body.user_data\n        if user_data is not None:\n            self._touched_circles.append(user_data)\n            return fraction\n        return -1\n\n\nclass Raycast(TestbedBase):\n\n    name = \"raycast\"\n\n    def __init__(self, settings=None):\n        super(Raycast, self).__init__(settings=settings)\n        dimensions = [30, 30]\n\n        # the outer box\n        box_shape = b2d.ChainShape()\n        box_shape.create_loop(\n            [\n                (0, 0),\n                (0, dimensions[1]),\n                (dimensions[0], dimensions[1]),\n                (dimensions[0], 0),\n            ]\n        )\n        box = self.world.create_static_body(\n            position=(0, 0), fixtures=b2d.fixture_def(shape=box_shape, friction=1)\n        )\n\n        self.magic_circle_rad = 1.0\n        self.magic_circle = self.world.create_dynamic_body(\n            position=[1, 1],\n            fixtures=b2d.fixture_def(\n                shape=b2d.circle_shape(radius=self.magic_circle_rad),\n                density=1.0,\n                friction=1.0,\n            ),\n        )\n\n        self.circles = []\n        for i in range(10):\n            self.circles.append(\n                self.world.create_dynamic_body(\n                    position=[s / 2 + random.random() for s in dimensions],\n                    fixtures=b2d.fixture_def(\n                        shape=b2d.circle_shape(radius=1), density=1.0, friction=1.0\n                    ),\n                    user_data=i,\n                )\n            )\n        self._touched_circles = []\n\n    def post_step(self, dt):\n        self._touched_circles = []\n        pos = self.magic_circle.position\n\n        n = 5\n        r0 = self.magic_circle_rad\n        r1 = 5\n\n        # most of this can be precomuted\n        t = np.linspace(0, 2 * np.pi, n, endpoint=False)\n        x0 = r0 * np.cos(t) + pos[0]\n        y0 = r0 * np.sin(t) + pos[1]\n        x1 = r1 * np.cos(t) + pos[0]\n        y1 = r1 * np.sin(t) + pos[1]\n\n        for i in range(n):\n            p0 = float(x0[i]), float(y0[i])\n            p1 = float(x1[i]), float(y1[i])\n\n            cb = RayCastCallback()\n            self.debug_draw.draw_segment(p0, p1, (1, 1, 1), line_width=0.1)\n            self.world.ray_cast(cb, p0, p1)\n            self._touched_circles.extend(cb._touched_circles)\n\n    def post_debug_draw(self):\n\n        position = tuple(self.magic_circle.position)\n        self.debug_draw.draw_solid_circle(position, 1.0, (1, 0), rand_color())\n\n        for i in self._touched_circles:\n            self.debug_draw.draw_solid_circle(\n                self.circles[i].position, 1.0, (1, 0), (1, 0, 0)\n            )\n\n\nif __name__ == \"__main__\":\n\n    ani = b2d.testbed.run(Raycast)\n    ani"
      ]
    }
  ],
  "metadata": {
    "kernelspec": {
      "display_name": "Python 3",
      "language": "python",
      "name": "python3"
    },
    "language_info": {
      "codemirror_mode": {
        "name": "ipython",
        "version": 3
      },
      "file_extension": ".py",
      "mimetype": "text/x-python",
      "name": "python",
      "nbconvert_exporter": "python",
      "pygments_lexer": "ipython3",
      "version": "3.10.6"
    }
  },
  "nbformat": 4,
  "nbformat_minor": 0
}