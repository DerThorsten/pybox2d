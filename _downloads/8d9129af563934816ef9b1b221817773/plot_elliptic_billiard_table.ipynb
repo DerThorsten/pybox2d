{
  "cells": [
    {
      "cell_type": "code",
      "execution_count": null,
      "metadata": {
        "collapsed": false
      },
      "outputs": [],
      "source": [
        "%matplotlib inline"
      ]
    },
    {
      "cell_type": "markdown",
      "metadata": {},
      "source": [
        "\n# Function Shape\n\nThis example show how to create a shape from a mathematical function.\nIn this example we use f(x) = sin(x) + log(x) + 5.5\n"
      ]
    },
    {
      "cell_type": "code",
      "execution_count": null,
      "metadata": {
        "collapsed": false
      },
      "outputs": [],
      "source": [
        "from b2d.testbed import TestbedBase\nimport random\nimport numpy as np\nimport b2d\nimport math\n\n\ndef ellipse_chain_shape(positon, a, b, n=50):\n    t = np.linspace(start=0, stop=2.0 * math.pi, num=n)\n    x = a * np.cos(t) + positon[0]\n    y = b * np.sin(t) + positon[1]\n    verts = np.stack([x, y], -1)\n    verts = np.require(verts, requirements=[\"C\"])\n    return b2d.loop_shape(np.flip(verts, axis=0))\n\n\nclass EllipticBillardTable(TestbedBase):\n\n    name = \"EllipticBillardTable\"\n\n    def __init__(self, settings=None):\n        super(EllipticBillardTable, self).__init__(settings=settings, gravity=(0, 0))\n\n        self.a = 20\n        self.b = 10\n\n        e = np.sqrt(self.a ** 2 - self.b ** 2)\n        center = (self.a, self.b)\n        shape = ellipse_chain_shape(center, self.a, self.b, n=50)\n        self.f0 = center[0] - e, center[1]\n        self.f1 = center[0] + e, center[1]\n        box = self.world.create_static_body(position=(0, 0), shape=shape)\n\n        for i in range(1):\n            box = self.world.create_dynamic_body(\n                position=self.f1,\n                fixtures=b2d.fixture_def(\n                    shape=b2d.circle_shape(\n                        pos=(0, 0),\n                        radius=1,\n                    ),\n                    density=1.0,\n                    restitution=0.9,\n                ),\n                fixed_rotation=True,\n                linear_damping=0.1,\n            )\n\n    def pre_debug_draw(self):\n        # focal points\n        self.debug_draw.draw_circle(self.f0, 1, color=(0, 1, 0), line_width=0.1)\n        self.debug_draw.draw_circle(self.f1, 1, color=(0, 1, 0), line_width=0.1)\n\n\nif __name__ == \"__main__\":\n\n    ani = b2d.testbed.run(EllipticBillardTable)\n    ani"
      ]
    }
  ],
  "metadata": {
    "kernelspec": {
      "display_name": "Python 3",
      "language": "python",
      "name": "python3"
    },
    "language_info": {
      "codemirror_mode": {
        "name": "ipython",
        "version": 3
      },
      "file_extension": ".py",
      "mimetype": "text/x-python",
      "name": "python",
      "nbconvert_exporter": "python",
      "pygments_lexer": "ipython3",
      "version": "3.8.10"
    }
  },
  "nbformat": 4,
  "nbformat_minor": 0
}