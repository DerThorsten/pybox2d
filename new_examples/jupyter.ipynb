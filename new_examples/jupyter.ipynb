{
 "cells": [
  {
   "cell_type": "code",
   "execution_count": null,
   "id": "00cd4547-2bb3-4fb2-aeda-196f6460ef7a",
   "metadata": {},
   "outputs": [],
   "source": [
    "from gauss_machine import GaussMachine  as Example\n",
    "from testbed.backend.jupyter import JupyterGui\n",
    "res = (400,400)\n",
    "gui_settings = {\n",
    "    \"fps\" : 30,\n",
    "    \"scale\" : 10,\n",
    "    \"translate\" : (50, 370),\n",
    "    \"resolution\" :res,\n",
    "    \"line_width\": 3,\n",
    "    \"id\": \"gauss_machine\"\n",
    "}\n",
    "Example.run(JupyterGui, gui_settings=gui_settings)"
   ]
  },
  {
   "cell_type": "code",
   "execution_count": null,
   "id": "bbb421bb-5263-49fc-8cfa-9d3ceca47c12",
   "metadata": {},
   "outputs": [],
   "source": [
    "from color_mixing import ColorMixing  as Example\n",
    "from testbed.backend.jupyter import JupyterGui\n",
    "res = (400,400)\n",
    "gui_settings = {\n",
    "    \"fps\" : 30,\n",
    "    \"scale\" : 30,\n",
    "    \"translate\" : (50, 370),\n",
    "    \"resolution\" :res,\n",
    "    \"line_width\": 3,\n",
    "    \"id\": \"color_mixing\"\n",
    "}\n",
    "Example.run(JupyterGui, gui_settings=gui_settings)"
   ]
  }
 ],
 "metadata": {
  "kernelspec": {
   "display_name": "Python 3 (ipykernel)",
   "language": "python",
   "name": "python3"
  },
  "language_info": {
   "codemirror_mode": {
    "name": "ipython",
    "version": 3
   },
   "file_extension": ".py",
   "mimetype": "text/x-python",
   "name": "python",
   "nbconvert_exporter": "python",
   "pygments_lexer": "ipython3",
   "version": "3.9.7"
  }
 },
 "nbformat": 4,
 "nbformat_minor": 5
}
