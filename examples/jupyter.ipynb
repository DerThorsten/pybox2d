{
 "cells": [
  {
   "cell_type": "code",
   "execution_count": null,
   "id": "ed27b2aa",
   "metadata": {},
   "outputs": [],
   "source": [
    "from b2d.testbed.backend.jupyter import JupyterGui"
   ]
  },
  {
   "cell_type": "code",
   "execution_count": null,
   "id": "e691f962",
   "metadata": {},
   "outputs": [],
   "source": [
    "import ipywidgets\n",
    "import ipycanvas\n",
    "import b2d\n",
    "from plot_newtons_cradle import NewtonsCradle  as Example\n",
    "gui_settings = {\n",
    "    \"id\": Example\n",
    "}\n",
    "Example.run(JupyterGui, gui_settings=gui_settings)"
   ]
  },
  {
   "cell_type": "code",
   "execution_count": 4,
   "id": "0fdf6f35",
   "metadata": {},
   "outputs": [
    {
     "data": {
      "application/vnd.jupyter.widget-view+json": {
       "model_id": "09798bfd4c184708a7b751f391d88f54",
       "version_major": 2,
       "version_minor": 0
      },
      "text/plain": [
       "Canvas(height=100, width=100)"
      ]
     },
     "metadata": {},
     "output_type": "display_data"
    }
   ],
   "source": [
    "import ipycanvas\n",
    "c =  ipycanvas.Canvas()\n",
    "c.width = 100\n",
    "c.height = 100\n",
    "c.flush()\n",
    "c"
   ]
  },
  {
   "cell_type": "code",
   "execution_count": null,
   "id": "cad51a6b",
   "metadata": {},
   "outputs": [],
   "source": [
    "from plot_blender import Blender  as Example\n",
    "gui_settings = {\n",
    "    \"id\": Example\n",
    "}\n",
    "Example.run(JupyterGui, gui_settings=gui_settings)"
   ]
  },
  {
   "cell_type": "code",
   "execution_count": null,
   "id": "1fa74c6a",
   "metadata": {},
   "outputs": [],
   "source": [
    "from plot_gauss_machine import GaussMachine  as Example\n",
    "gui_settings = {\n",
    "    \"id\": Example\n",
    "}\n",
    "Example.run(JupyterGui, gui_settings=gui_settings)"
   ]
  },
  {
   "cell_type": "code",
   "execution_count": null,
   "id": "61148397",
   "metadata": {},
   "outputs": [],
   "source": [
    "from plot_color_mixing import ColorMixing  as Example\n",
    "gui_settings = {\n",
    "    \"id\": Example\n",
    "}\n",
    "Example.run(JupyterGui, gui_settings=gui_settings)"
   ]
  },
  {
   "cell_type": "code",
   "execution_count": null,
   "id": "3e56f480",
   "metadata": {},
   "outputs": [],
   "source": [
    "from plot_function_shape import FunctionShape  as Example\n",
    "res = (400,400)\n",
    "gui_settings = {\n",
    "    \"id\": Example\n",
    "}\n",
    "Example.run(JupyterGui, gui_settings=gui_settings)"
   ]
  }
 ],
 "metadata": {
  "kernelspec": {
   "display_name": "Python 3 (ipykernel)",
   "language": "python",
   "name": "python3"
  },
  "language_info": {
   "codemirror_mode": {
    "name": "ipython",
    "version": 3
   },
   "file_extension": ".py",
   "mimetype": "text/x-python",
   "name": "python",
   "nbconvert_exporter": "python",
   "pygments_lexer": "ipython3",
   "version": "3.9.7"
  }
 },
 "nbformat": 4,
 "nbformat_minor": 5
}
