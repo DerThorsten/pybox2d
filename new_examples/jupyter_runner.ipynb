{
 "cells": [
  {
   "cell_type": "code",
   "execution_count": 1,
   "id": "a5fbda2c-57bf-475e-a154-71203add6efd",
   "metadata": {},
   "outputs": [
    {
     "data": {
      "application/vnd.jupyter.widget-view+json": {
       "model_id": "72ca210353c44b789063a99dbf575304",
       "version_major": 2,
       "version_minor": 0
      },
      "text/plain": [
       "Output()"
      ]
     },
     "metadata": {},
     "output_type": "display_data"
    }
   ],
   "source": [
    "from angry_circles import AngryCircles  as Example\n",
    "from testbed.backend.jupyter import JupyterGui\n",
    "res = (1000,400)\n",
    "gui_settings = {\n",
    "    \"fps\" : 30,\n",
    "    \"scale\" : 10,\n",
    "    \"translate\" : (100, 370),\n",
    "    \"resolution\" :res,\n",
    "    \"line_width\": 3\n",
    "}\n",
    "Example.run(JupyterGui, gui_settings=gui_settings)\n"
   ]
  },
  {
   "cell_type": "code",
   "execution_count": 1,
   "id": "e8baf9ae-0f43-42ff-8f40-7cb7ed489062",
   "metadata": {},
   "outputs": [
    {
     "data": {
      "application/vnd.jupyter.widget-view+json": {
       "model_id": "65132ca0820c4c1e8cb162277263d09b",
       "version_major": 2,
       "version_minor": 0
      },
      "text/plain": [
       "Output()"
      ]
     },
     "metadata": {},
     "output_type": "display_data"
    }
   ],
   "source": [
    "from gauss_machine import GaussMachine as Example\n",
    "from testbed.backend.jupyter import JupyterGui\n",
    "res = (1000,600)\n",
    "gui_settings = {\n",
    "    \"fps\" : 30,\n",
    "    \"scale\" : 20,\n",
    "    \"translate\" : (100, 500),\n",
    "    \"resolution\" :res,\n",
    "    \"line_width\": 3\n",
    "}\n",
    "Example.run(JupyterGui, gui_settings=gui_settings)"
   ]
  },
  {
   "cell_type": "code",
   "execution_count": null,
   "id": "cbeba63d-c009-41f6-8e01-fb3e94a6d722",
   "metadata": {},
   "outputs": [],
   "source": [
    "from function_shape import FuncShape  as Example\n",
    "from testbed.backend.jupyter import JupyterGui\n",
    "res = (1000,600)\n",
    "gui_settings = {\n",
    "    \"fps\" : 30,\n",
    "    \"scale\" : 20,\n",
    "    \"translate\" : (100, 500),\n",
    "    \"resolution\" :res,\n",
    "    \"line_width\": 3\n",
    "}\n",
    "Example.run(JupyterGui, gui_settings=gui_settings)"
   ]
  },
  {
   "cell_type": "code",
   "execution_count": 3,
   "id": "ee12c327-ed4b-4976-8772-c986ecc62b39",
   "metadata": {},
   "outputs": [
    {
     "data": {
      "application/vnd.jupyter.widget-view+json": {
       "model_id": "54a545dbe59540a8b0007b5c7456e06f",
       "version_major": 2,
       "version_minor": 0
      },
      "text/plain": [
       "Output()"
      ]
     },
     "metadata": {},
     "output_type": "display_data"
    }
   ],
   "source": [
    "import pybox2d as b2\n",
    "import random\n",
    "from testbed import TestbedBase\n",
    "import random\n",
    "import numpy\n",
    "import pybox2d as b2\n",
    "\n",
    "class MyExample(TestbedBase):\n",
    "\n",
    "    name = \"my example\"\n",
    "    \n",
    "    def __init__(self): \n",
    "        super(MyExample, self).__init__()\n",
    "    \n",
    "        dimensions = [50,50]\n",
    "        \n",
    "        # the outer box\n",
    "        box_shape = b2.ChainShape()\n",
    "        box_shape.create_loop([\n",
    "                (0,0),\n",
    "                (0,dimensions[1]),\n",
    "                (dimensions[0],dimensions[1]),\n",
    "                (dimensions[0],0)\n",
    "            ]\n",
    "        )\n",
    "        box = self.world.create_static_body( position=(0, 0), shape = box_shape)\n",
    "    \n",
    "        for i in range(100):\n",
    "\n",
    "            self.world.create_dynamic_body(\n",
    "                position=(25 + random.random()*10, 25 + random.random()*10 ), shape=b2.circle_shape(radius=1)\n",
    "            ,density=1.0)\n",
    "\n",
    "from testbed.backend.jupyter import JupyterGui\n",
    "res = (1000,600)\n",
    "gui_settings = {\n",
    "    \"fps\" : 30,\n",
    "    \"scale\" : 10,\n",
    "    \"translate\" : (100, 500),\n",
    "    \"resolution\" :res,\n",
    "    \"line_width\": 3\n",
    "}\n",
    "MyExample.run(JupyterGui, gui_settings=gui_settings)"
   ]
  }
 ],
 "metadata": {
  "kernelspec": {
   "display_name": "Python 3 (ipykernel)",
   "language": "python",
   "name": "python3"
  },
  "language_info": {
   "codemirror_mode": {
    "name": "ipython",
    "version": 3
   },
   "file_extension": ".py",
   "mimetype": "text/x-python",
   "name": "python",
   "nbconvert_exporter": "python",
   "pygments_lexer": "ipython3",
   "version": "3.9.7"
  }
 },
 "nbformat": 4,
 "nbformat_minor": 5
}
