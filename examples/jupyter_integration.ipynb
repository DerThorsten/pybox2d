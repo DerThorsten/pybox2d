{
 "cells": [
  {
   "cell_type": "code",
   "execution_count": 1,
   "id": "ed27b2aa",
   "metadata": {},
   "outputs": [],
   "source": [
    "from b2d.testbed.backend.jupyter import JupyterGui"
   ]
  },
  {
   "cell_type": "code",
   "execution_count": 2,
   "id": "e691f962",
   "metadata": {},
   "outputs": [
    {
     "data": {
      "application/vnd.jupyter.widget-view+json": {
       "model_id": "c87cdbc6a5c04217b1f3d1512c80d2ad",
       "version_major": 2,
       "version_minor": 0
      },
      "text/plain": [
       "Output()"
      ]
     },
     "metadata": {},
     "output_type": "display_data"
    }
   ],
   "source": [
    "import ipywidgets\n",
    "import ipycanvas\n",
    "import b2d\n",
    "from plot_newtons_cradle import NewtonsCradle  as Example\n",
    "gui_settings = {\n",
    "    \"id\": Example\n",
    "}\n",
    "Example.run(JupyterGui, gui_settings=gui_settings)"
   ]
  },
  {
   "cell_type": "code",
   "execution_count": null,
   "id": "cad51a6b",
   "metadata": {},
   "outputs": [],
   "source": [
    "from plot_blender import Blender  as Example\n",
    "gui_settings = {\n",
    "    \"id\": Example\n",
    "}\n",
    "Example.run(JupyterGui, gui_settings=gui_settings)"
   ]
  },
  {
   "cell_type": "code",
   "execution_count": null,
   "id": "1fa74c6a",
   "metadata": {},
   "outputs": [],
   "source": [
    "from plot_gauss_machine import GaussMachine  as Example\n",
    "gui_settings = {\n",
    "    \"id\": Example\n",
    "}\n",
    "Example.run(JupyterGui, gui_settings=gui_settings)"
   ]
  },
  {
   "cell_type": "code",
   "execution_count": null,
   "id": "61148397",
   "metadata": {},
   "outputs": [],
   "source": [
    "from plot_color_mixing import ColorMixing  as Example\n",
    "gui_settings = {\n",
    "    \"id\": Example\n",
    "}\n",
    "Example.run(JupyterGui, gui_settings=gui_settings)"
   ]
  },
  {
   "cell_type": "code",
   "execution_count": null,
   "id": "3e56f480",
   "metadata": {},
   "outputs": [],
   "source": [
    "from plot_function_shape import FunctionShape  as Example\n",
    "res = (400,400)\n",
    "gui_settings = {\n",
    "    \"id\": Example\n",
    "}\n",
    "Example.run(JupyterGui, gui_settings=gui_settings)"
   ]
  },
  {
   "cell_type": "code",
   "execution_count": 3,
   "id": "94f3ba82-a979-49f4-8032-4531c94515dc",
   "metadata": {},
   "outputs": [
    {
     "data": {
      "application/vnd.jupyter.widget-view+json": {
       "model_id": "e39f82fe4a994221abe9c94af2841e51",
       "version_major": 2,
       "version_minor": 0
      },
      "text/plain": [
       "Output()"
      ]
     },
     "metadata": {},
     "output_type": "display_data"
    }
   ],
   "source": [
    "from b2d.testbed import TestbedBase\n",
    "import random\n",
    "import numpy\n",
    "import b2d\n",
    "import math\n",
    "\n",
    "\n",
    "\n",
    "\n",
    "class Keyboardx(TestbedBase):\n",
    "\n",
    "    name = \"the func shape\"\n",
    "    \n",
    "    def __init__(self): \n",
    "        super(Keyboardx, self).__init__(gravity=(0,0))\n",
    "    \n",
    "\n",
    "\n",
    "        dimensions = [30,30]\n",
    "        \n",
    "        # the outer box\n",
    "        box_shape = b2d.ChainShape()\n",
    "        box_shape.create_loop([\n",
    "                (0,0),\n",
    "                (0,dimensions[1]),\n",
    "                (dimensions[0],dimensions[1]),\n",
    "                (dimensions[0],0)\n",
    "            ]\n",
    "        )\n",
    "        box = self.world.create_static_body( position=(0, 0), shape = box_shape)\n",
    "\n",
    "        self.rocket = self.world.create_dynamic_body(position=(dimensions[0]/2,10), \n",
    "            fixtures=b2d.fixture_def(\n",
    "                shape=b2d.polygon_shape(box=[1,1]),\n",
    "                density=1\n",
    "            )\n",
    "        )\n",
    "\n",
    "\n",
    "\n",
    "        # particle system\n",
    "        pdef = b2d.particle_system_def(viscous_strength=0.9,spring_strength=0.0, \n",
    "            damping_strength=100.5,pressure_strength=1.0,\n",
    "            color_mixing_strength=0.05,density=0.1)\n",
    "\n",
    "        psystem = self.world.create_particle_system(pdef)\n",
    "        psystem.radius = 0.1\n",
    "        psystem.damping = 0.5\n",
    "\n",
    "        if False:\n",
    "            emitter_def = b2d.RandomizedLinearEmitterDef()\n",
    "            emitter_def.emite_rate = 200\n",
    "            emitter_def.lifetime = 1\n",
    "            emitter_def.size = (2,0.1)\n",
    "            emitter_def.velocity = (0,-10)\n",
    "            emitter_def.body = self.rocket\n",
    "            emitter_def.transform = b2d.Transform(self.rocket.position, b2d.Rot(0))\n",
    "            self.emitter = b2d.RandomizedLinearEmitter(psystem, emitter_def)\n",
    "        else:\n",
    "            angle_width = (math.pi * 2) / 16\n",
    "            emitter_def = b2d.RandomizedRadialEmitterDef()\n",
    "            emitter_def.emite_rate = 2000\n",
    "            emitter_def.lifetime = 1.0\n",
    "            emitter_def.enabled = False\n",
    "            emitter_def.inner_radius = 1.0\n",
    "            emitter_def.outer_radius = 1\n",
    "            emitter_def.velocity_magnitude = 10.0\n",
    "            emitter_def.start_angle =  math.pi/2 - angle_width /2.0\n",
    "            emitter_def.stop_angle = math.pi/2 + angle_width /2.0\n",
    "            emitter_def.body = self.rocket\n",
    "            world_anchor =  self.rocket.get_world_point((0,-1.1))\n",
    "            emitter_def.transform = b2d.Transform(world_anchor, b2d.Rot(math.pi))\n",
    "            self.emitter = b2d.RandomizedRadialEmitter(psystem, emitter_def)\n",
    "\n",
    "\n",
    "\n",
    "    def pre_step(self, dt):\n",
    "\n",
    "        # get the world point of the emitters anchor point\n",
    "        world_anchor = self.rocket.get_world_point((0,-1.1))\n",
    "\n",
    "\n",
    "        self.emitter.position = world_anchor\n",
    "        self.emitter.angle = self.rocket.angle  + math.pi\n",
    "        # print(world_anchor, self.emitter.position)\n",
    "\n",
    "        self.emitter.step(dt)\n",
    "\n",
    "    def on_keyboard_down(self, keycode):\n",
    "        print(\"key down\", self.iter, keycode)\n",
    "        if keycode[1] ==  'w':\n",
    "            self.emitter.enabled = True\n",
    "            return True\n",
    "        return False\n",
    "\n",
    "\n",
    "    def on_keyboard_up(self, keycode):\n",
    "        print(\"key up\", self.iter, keycode)\n",
    "        if keycode[1] ==  'w':\n",
    "            self.emitter.enabled = False\n",
    "            return True\n",
    "        return False\n",
    "\n",
    "gui_settings = {\n",
    "    \"id\": Keyboardx\n",
    "}\n",
    "\n",
    "ani = b2d.testbed.run(Keyboardx, gui_settings=gui_settings)\n",
    "ani\n"
   ]
  }
 ],
 "metadata": {
  "kernelspec": {
   "display_name": "Python 3 (ipykernel)",
   "language": "python",
   "name": "python3"
  },
  "language_info": {
   "codemirror_mode": {
    "name": "ipython",
    "version": 3
   },
   "file_extension": ".py",
   "mimetype": "text/x-python",
   "name": "python",
   "nbconvert_exporter": "python",
   "pygments_lexer": "ipython3",
   "version": "3.9.7"
  }
 },
 "nbformat": 4,
 "nbformat_minor": 5
}
