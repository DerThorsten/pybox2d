{
  "cells": [
    {
      "cell_type": "code",
      "execution_count": null,
      "metadata": {
        "collapsed": false
      },
      "outputs": [],
      "source": [
        "%matplotlib inline"
      ]
    },
    {
      "cell_type": "markdown",
      "metadata": {},
      "source": [
        "\n# Blender\n\nThis example show how to create a blender with Box2D\n"
      ]
    },
    {
      "cell_type": "code",
      "execution_count": null,
      "metadata": {
        "collapsed": false
      },
      "outputs": [],
      "source": [
        "from b2d.testbed import TestbedBase\nimport random\nimport numpy\nimport b2d\n\n\nclass Blender(TestbedBase):\n\n    name = \"blender\"\n\n    def __init__(self, settings=None):\n        super(Blender, self).__init__(settings=settings)\n        dimensions = [30, 30]\n\n        # the outer box\n        box_shape = b2d.ChainShape()\n        box_shape.create_loop(\n            [\n                (0, 0),\n                (0, dimensions[1]),\n                (dimensions[0], dimensions[1]),\n                (dimensions[0], 0),\n            ]\n        )\n        box = self.world.create_static_body(\n            position=(0, 0), fixtures=b2d.fixture_def(shape=box_shape, friction=0)\n        )\n\n        for i in range(20):\n            circle = self.world.create_dynamic_body(\n                position=(dimensions[0] / 2 + random.random(), 1 + random.random()),\n                fixtures=b2d.fixture_def(\n                    density=1.0, shape=b2d.circle_shape(radius=1.0), restitution=1\n                ),\n                angular_damping=0,\n                linear_damping=0,\n            )\n\n        body_a = self.world.create_static_body(\n            position=(dimensions[0] / 2, dimensions[1] / 2),\n        )\n        l = 7.2\n        body_b = self.world.create_dynamic_body(\n            position=(dimensions[0] / 2, dimensions[1] / 2),\n            shape=b2d.polygon_shape(box=[0.4, l]),\n            density=1,\n            angular_damping=0,\n            linear_damping=0,\n        )\n\n        joint = self.world.create_revolute_joint(\n            body_a=body_a,\n            body_b=body_b,\n            local_anchor_a=(0, 0),\n            local_anchor_b=(0, l),\n            collide_connected=False,\n            enable_motor=True,\n            max_motor_torque=100000,\n            motor_speed=3,\n        )\n\n\nif __name__ == \"__main__\":\n\n    ani = b2d.testbed.run(Blender)\n    ani"
      ]
    }
  ],
  "metadata": {
    "kernelspec": {
      "display_name": "Python 3",
      "language": "python",
      "name": "python3"
    },
    "language_info": {
      "codemirror_mode": {
        "name": "ipython",
        "version": 3
      },
      "file_extension": ".py",
      "mimetype": "text/x-python",
      "name": "python",
      "nbconvert_exporter": "python",
      "pygments_lexer": "ipython3",
      "version": "3.8.10"
    }
  },
  "nbformat": 4,
  "nbformat_minor": 0
}