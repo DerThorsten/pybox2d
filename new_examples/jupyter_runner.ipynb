{
 "cells": [
  {
   "cell_type": "code",
   "execution_count": 1,
   "id": "a5fbda2c-57bf-475e-a154-71203add6efd",
   "metadata": {},
   "outputs": [
    {
     "ename": "KeyError",
     "evalue": "'id'",
     "output_type": "error",
     "traceback": [
      "\u001b[0;31m---------------------------------------------------------------------------\u001b[0m",
      "\u001b[0;31mKeyError\u001b[0m                                  Traceback (most recent call last)",
      "\u001b[0;32m/tmp/ipykernel_82193/822046449.py\u001b[0m in \u001b[0;36m<module>\u001b[0;34m\u001b[0m\n\u001b[1;32m      9\u001b[0m     \u001b[0;34m\"line_width\"\u001b[0m\u001b[0;34m:\u001b[0m \u001b[0;36m3\u001b[0m\u001b[0;34m\u001b[0m\u001b[0;34m\u001b[0m\u001b[0m\n\u001b[1;32m     10\u001b[0m }\n\u001b[0;32m---> 11\u001b[0;31m \u001b[0mExample\u001b[0m\u001b[0;34m.\u001b[0m\u001b[0mrun\u001b[0m\u001b[0;34m(\u001b[0m\u001b[0mJupyterGui\u001b[0m\u001b[0;34m,\u001b[0m \u001b[0mgui_settings\u001b[0m\u001b[0;34m=\u001b[0m\u001b[0mgui_settings\u001b[0m\u001b[0;34m)\u001b[0m\u001b[0;34m\u001b[0m\u001b[0;34m\u001b[0m\u001b[0m\n\u001b[0m",
      "\u001b[0;32m~/src/pybox2d/new_examples/testbed/testbed_base.py\u001b[0m in \u001b[0;36mrun\u001b[0;34m(cls, gui_factory, gui_settings, testbed_kwargs)\u001b[0m\n\u001b[1;32m     28\u001b[0m             \u001b[0mtestbed_kwargs\u001b[0m \u001b[0;34m=\u001b[0m \u001b[0mdict\u001b[0m\u001b[0;34m(\u001b[0m\u001b[0;34m)\u001b[0m\u001b[0;34m\u001b[0m\u001b[0;34m\u001b[0m\u001b[0m\n\u001b[1;32m     29\u001b[0m \u001b[0;34m\u001b[0m\u001b[0m\n\u001b[0;32m---> 30\u001b[0;31m         \u001b[0mui\u001b[0m \u001b[0;34m=\u001b[0m \u001b[0mgui_factory\u001b[0m\u001b[0;34m(\u001b[0m\u001b[0mtestbed_cls\u001b[0m\u001b[0;34m=\u001b[0m\u001b[0mcls\u001b[0m\u001b[0;34m,\u001b[0m \u001b[0mtestbed_kwargs\u001b[0m\u001b[0;34m=\u001b[0m\u001b[0mtestbed_kwargs\u001b[0m\u001b[0;34m,\u001b[0m \u001b[0msettings\u001b[0m\u001b[0;34m=\u001b[0m\u001b[0mgui_settings\u001b[0m\u001b[0;34m)\u001b[0m\u001b[0;34m\u001b[0m\u001b[0;34m\u001b[0m\u001b[0m\n\u001b[0m\u001b[1;32m     31\u001b[0m \u001b[0;34m\u001b[0m\u001b[0m\n\u001b[1;32m     32\u001b[0m         \u001b[0mui\u001b[0m\u001b[0;34m.\u001b[0m\u001b[0mstart_ui\u001b[0m\u001b[0;34m(\u001b[0m\u001b[0;34m)\u001b[0m\u001b[0;34m\u001b[0m\u001b[0;34m\u001b[0m\u001b[0m\n",
      "\u001b[0;32m~/src/pybox2d/new_examples/testbed/backend/jupyter/jupyter_gui.py\u001b[0m in \u001b[0;36m__init__\u001b[0;34m(self, testbed_cls, settings, testbed_kwargs)\u001b[0m\n\u001b[1;32m     31\u001b[0m     \u001b[0;32mdef\u001b[0m \u001b[0m__init__\u001b[0m\u001b[0;34m(\u001b[0m\u001b[0mself\u001b[0m\u001b[0;34m,\u001b[0m \u001b[0mtestbed_cls\u001b[0m\u001b[0;34m,\u001b[0m \u001b[0msettings\u001b[0m\u001b[0;34m,\u001b[0m \u001b[0mtestbed_kwargs\u001b[0m\u001b[0;34m=\u001b[0m\u001b[0;32mNone\u001b[0m\u001b[0;34m)\u001b[0m\u001b[0;34m:\u001b[0m\u001b[0;34m\u001b[0m\u001b[0;34m\u001b[0m\u001b[0m\n\u001b[1;32m     32\u001b[0m \u001b[0;34m\u001b[0m\u001b[0m\n\u001b[0;32m---> 33\u001b[0;31m         \u001b[0mself\u001b[0m\u001b[0;34m.\u001b[0m\u001b[0mid\u001b[0m \u001b[0;34m=\u001b[0m \u001b[0msettings\u001b[0m\u001b[0;34m[\u001b[0m\u001b[0;34m\"id\"\u001b[0m\u001b[0;34m]\u001b[0m\u001b[0;34m\u001b[0m\u001b[0;34m\u001b[0m\u001b[0m\n\u001b[0m\u001b[1;32m     34\u001b[0m         \u001b[0mprint\u001b[0m\u001b[0;34m(\u001b[0m\u001b[0mself\u001b[0m\u001b[0;34m.\u001b[0m\u001b[0mid\u001b[0m\u001b[0;34m)\u001b[0m\u001b[0;34m\u001b[0m\u001b[0;34m\u001b[0m\u001b[0m\n\u001b[1;32m     35\u001b[0m \u001b[0;34m\u001b[0m\u001b[0m\n",
      "\u001b[0;31mKeyError\u001b[0m: 'id'"
     ]
    }
   ],
   "source": [
    "from angry_circles import AngryCircles  as Example\n",
    "from testbed.backend.jupyter import JupyterGui\n",
    "res = (1000,400)\n",
    "gui_settings = {\n",
    "    \"fps\" : 30,\n",
    "    \"scale\" : 10,\n",
    "    \"translate\" : (100, 370),\n",
    "    \"resolution\" :res,\n",
    "    \"line_width\": 3\n",
    "}\n",
    "Example.run(JupyterGui, gui_settings=gui_settings)\n"
   ]
  },
  {
   "cell_type": "code",
   "execution_count": 2,
   "id": "e8baf9ae-0f43-42ff-8f40-7cb7ed489062",
   "metadata": {},
   "outputs": [
    {
     "data": {
      "application/vnd.jupyter.widget-view+json": {
       "model_id": "deae2bf9f99149eea65bf28495cccf3c",
       "version_major": 2,
       "version_minor": 0
      },
      "text/plain": [
       "Output()"
      ]
     },
     "metadata": {},
     "output_type": "display_data"
    },
    {
     "ename": "AttributeError",
     "evalue": "'pybox2d._pybox2d.EdgeShape' object has no attribute 'set_two_sided'",
     "output_type": "error",
     "traceback": [
      "\u001b[0;31m---------------------------------------------------------------------------\u001b[0m",
      "\u001b[0;31mAttributeError\u001b[0m                            Traceback (most recent call last)",
      "\u001b[0;32m/tmp/ipykernel_91434/3150779823.py\u001b[0m in \u001b[0;36m<module>\u001b[0;34m\u001b[0m\n\u001b[1;32m      9\u001b[0m     \u001b[0;34m\"line_width\"\u001b[0m\u001b[0;34m:\u001b[0m \u001b[0;36m3\u001b[0m\u001b[0;34m\u001b[0m\u001b[0;34m\u001b[0m\u001b[0m\n\u001b[1;32m     10\u001b[0m }\n\u001b[0;32m---> 11\u001b[0;31m \u001b[0mExample\u001b[0m\u001b[0;34m.\u001b[0m\u001b[0mrun\u001b[0m\u001b[0;34m(\u001b[0m\u001b[0mJupyterGui\u001b[0m\u001b[0;34m,\u001b[0m \u001b[0mgui_settings\u001b[0m\u001b[0;34m=\u001b[0m\u001b[0mgui_settings\u001b[0m\u001b[0;34m)\u001b[0m\u001b[0;34m\u001b[0m\u001b[0;34m\u001b[0m\u001b[0m\n\u001b[0m",
      "\u001b[0;32m~/src/pybox2d/new_examples/testbed/testbed_base.py\u001b[0m in \u001b[0;36mrun\u001b[0;34m(cls, gui_factory, gui_settings, testbed_kwargs)\u001b[0m\n\u001b[1;32m     30\u001b[0m         \u001b[0mui\u001b[0m \u001b[0;34m=\u001b[0m \u001b[0mgui_factory\u001b[0m\u001b[0;34m(\u001b[0m\u001b[0mtestbed_cls\u001b[0m\u001b[0;34m=\u001b[0m\u001b[0mcls\u001b[0m\u001b[0;34m,\u001b[0m \u001b[0mtestbed_kwargs\u001b[0m\u001b[0;34m=\u001b[0m\u001b[0mtestbed_kwargs\u001b[0m\u001b[0;34m,\u001b[0m \u001b[0msettings\u001b[0m\u001b[0;34m=\u001b[0m\u001b[0mgui_settings\u001b[0m\u001b[0;34m)\u001b[0m\u001b[0;34m\u001b[0m\u001b[0;34m\u001b[0m\u001b[0m\n\u001b[1;32m     31\u001b[0m \u001b[0;34m\u001b[0m\u001b[0m\n\u001b[0;32m---> 32\u001b[0;31m         \u001b[0mui\u001b[0m\u001b[0;34m.\u001b[0m\u001b[0mstart_ui\u001b[0m\u001b[0;34m(\u001b[0m\u001b[0;34m)\u001b[0m\u001b[0;34m\u001b[0m\u001b[0;34m\u001b[0m\u001b[0m\n\u001b[0m\u001b[1;32m     33\u001b[0m \u001b[0;34m\u001b[0m\u001b[0m\n\u001b[1;32m     34\u001b[0m     \u001b[0;32mdef\u001b[0m \u001b[0m__init__\u001b[0m\u001b[0;34m(\u001b[0m\u001b[0mself\u001b[0m\u001b[0;34m,\u001b[0m \u001b[0mgravity\u001b[0m\u001b[0;34m=\u001b[0m\u001b[0mb2\u001b[0m\u001b[0;34m.\u001b[0m\u001b[0mvec2\u001b[0m\u001b[0;34m(\u001b[0m\u001b[0;36m0\u001b[0m\u001b[0;34m,\u001b[0m\u001b[0;34m-\u001b[0m\u001b[0;36m9.81\u001b[0m\u001b[0;34m)\u001b[0m\u001b[0;34m)\u001b[0m\u001b[0;34m:\u001b[0m\u001b[0;34m\u001b[0m\u001b[0;34m\u001b[0m\u001b[0m\n",
      "\u001b[0;32m~/src/pybox2d/new_examples/testbed/backend/jupyter/jupyter_gui.py\u001b[0m in \u001b[0;36mstart_ui\u001b[0;34m(self)\u001b[0m\n\u001b[1;32m    168\u001b[0m \u001b[0;34m\u001b[0m\u001b[0m\n\u001b[1;32m    169\u001b[0m         \u001b[0;31m#make the world\u001b[0m\u001b[0;34m\u001b[0m\u001b[0;34m\u001b[0m\u001b[0m\n\u001b[0;32m--> 170\u001b[0;31m         \u001b[0mself\u001b[0m\u001b[0;34m.\u001b[0m\u001b[0mmake_testworld\u001b[0m\u001b[0;34m(\u001b[0m\u001b[0;34m)\u001b[0m\u001b[0;34m\u001b[0m\u001b[0;34m\u001b[0m\u001b[0m\n\u001b[0m\u001b[1;32m    171\u001b[0m \u001b[0;34m\u001b[0m\u001b[0m\n\u001b[1;32m    172\u001b[0m         \u001b[0;32mdef\u001b[0m \u001b[0mon_mouse_down\u001b[0m\u001b[0;34m(\u001b[0m \u001b[0mxpos\u001b[0m\u001b[0;34m,\u001b[0m \u001b[0mypos\u001b[0m\u001b[0;34m)\u001b[0m\u001b[0;34m:\u001b[0m\u001b[0;34m\u001b[0m\u001b[0;34m\u001b[0m\u001b[0m\n",
      "\u001b[0;32m~/src/pybox2d/new_examples/testbed/backend/jupyter/jupyter_gui.py\u001b[0m in \u001b[0;36mmake_testworld\u001b[0;34m(self)\u001b[0m\n\u001b[1;32m     67\u001b[0m         \u001b[0;32mif\u001b[0m \u001b[0mself\u001b[0m\u001b[0;34m.\u001b[0m\u001b[0m_testworld\u001b[0m \u001b[0;32mis\u001b[0m \u001b[0;32mnot\u001b[0m \u001b[0;32mNone\u001b[0m\u001b[0;34m:\u001b[0m\u001b[0;34m\u001b[0m\u001b[0;34m\u001b[0m\u001b[0m\n\u001b[1;32m     68\u001b[0m             \u001b[0mself\u001b[0m\u001b[0;34m.\u001b[0m\u001b[0m_testworld\u001b[0m\u001b[0;34m.\u001b[0m\u001b[0msay_goodbye_world\u001b[0m\u001b[0;34m(\u001b[0m\u001b[0;34m)\u001b[0m\u001b[0;34m\u001b[0m\u001b[0;34m\u001b[0m\u001b[0m\n\u001b[0;32m---> 69\u001b[0;31m         \u001b[0mself\u001b[0m\u001b[0;34m.\u001b[0m\u001b[0m_testworld\u001b[0m \u001b[0;34m=\u001b[0m \u001b[0mself\u001b[0m\u001b[0;34m.\u001b[0m\u001b[0mtestbed_cls\u001b[0m\u001b[0;34m(\u001b[0m\u001b[0;34m**\u001b[0m\u001b[0mself\u001b[0m\u001b[0;34m.\u001b[0m\u001b[0mtestbed_kwargs\u001b[0m\u001b[0;34m)\u001b[0m\u001b[0;34m\u001b[0m\u001b[0;34m\u001b[0m\u001b[0m\n\u001b[0m\u001b[1;32m     70\u001b[0m \u001b[0;34m\u001b[0m\u001b[0m\n\u001b[1;32m     71\u001b[0m         \u001b[0;31m# make debug draw\u001b[0m\u001b[0;34m\u001b[0m\u001b[0;34m\u001b[0m\u001b[0m\n",
      "\u001b[0;32m~/src/pybox2d/new_examples/gauss_machine.py\u001b[0m in \u001b[0;36m__init__\u001b[0;34m(self)\u001b[0m\n\u001b[1;32m     29\u001b[0m \u001b[0;34m\u001b[0m\u001b[0m\n\u001b[1;32m     30\u001b[0m             \u001b[0mshape\u001b[0m \u001b[0;34m=\u001b[0m \u001b[0mb2\u001b[0m\u001b[0;34m.\u001b[0m\u001b[0mEdgeShape\u001b[0m\u001b[0;34m(\u001b[0m\u001b[0;34m)\u001b[0m\u001b[0;34m\u001b[0m\u001b[0;34m\u001b[0m\u001b[0m\n\u001b[0;32m---> 31\u001b[0;31m             \u001b[0mshape\u001b[0m\u001b[0;34m.\u001b[0m\u001b[0mset_two_sided\u001b[0m\u001b[0;34m(\u001b[0m\u001b[0;34m(\u001b[0m\u001b[0mx\u001b[0m\u001b[0;34m,\u001b[0m \u001b[0;36m0\u001b[0m\u001b[0;34m)\u001b[0m\u001b[0;34m,\u001b[0m \u001b[0;34m(\u001b[0m\u001b[0mx\u001b[0m\u001b[0;34m,\u001b[0m\u001b[0mbin_height\u001b[0m\u001b[0;34m)\u001b[0m\u001b[0;34m)\u001b[0m\u001b[0;34m\u001b[0m\u001b[0;34m\u001b[0m\u001b[0m\n\u001b[0m\u001b[1;32m     32\u001b[0m             \u001b[0mbox\u001b[0m \u001b[0;34m=\u001b[0m \u001b[0mself\u001b[0m\u001b[0;34m.\u001b[0m\u001b[0mworld\u001b[0m\u001b[0;34m.\u001b[0m\u001b[0mcreate_static_body\u001b[0m\u001b[0;34m(\u001b[0m \u001b[0mposition\u001b[0m\u001b[0;34m=\u001b[0m\u001b[0;34m(\u001b[0m\u001b[0;36m0\u001b[0m\u001b[0;34m,\u001b[0m \u001b[0;36m0\u001b[0m\u001b[0;34m)\u001b[0m\u001b[0;34m,\u001b[0m \u001b[0mshape\u001b[0m \u001b[0;34m=\u001b[0m\u001b[0mshape\u001b[0m\u001b[0;34m)\u001b[0m\u001b[0;34m\u001b[0m\u001b[0;34m\u001b[0m\u001b[0m\n\u001b[1;32m     33\u001b[0m \u001b[0;34m\u001b[0m\u001b[0m\n",
      "\u001b[0;31mAttributeError\u001b[0m: 'pybox2d._pybox2d.EdgeShape' object has no attribute 'set_two_sided'"
     ]
    }
   ],
   "source": [
    "from gauss_machine import GaussMachine as Example\n",
    "from testbed.backend.jupyter import JupyterGui\n",
    "res = (1000,600)\n",
    "gui_settings = {\n",
    "    \"fps\" : 30,\n",
    "    \"scale\" : 20,\n",
    "    \"translate\" : (100, 500),\n",
    "    \"resolution\" :res,\n",
    "    \"line_width\": 3\n",
    "}\n",
    "Example.run(JupyterGui, gui_settings=gui_settings)"
   ]
  },
  {
   "cell_type": "code",
   "execution_count": 3,
   "id": "cbeba63d-c009-41f6-8e01-fb3e94a6d722",
   "metadata": {},
   "outputs": [
    {
     "data": {
      "application/vnd.jupyter.widget-view+json": {
       "model_id": "37eaf72a0b724d1a8608599c2731d09c",
       "version_major": 2,
       "version_minor": 0
      },
      "text/plain": [
       "Output()"
      ]
     },
     "metadata": {},
     "output_type": "display_data"
    }
   ],
   "source": [
    "from function_shape import FuncShape  as Example\n",
    "from testbed.backend.jupyter import JupyterGui\n",
    "res = (1000,600)\n",
    "gui_settings = {\n",
    "    \"fps\" : 30,\n",
    "    \"scale\" : 20,\n",
    "    \"translate\" : (100, 500),\n",
    "    \"resolution\" :res,\n",
    "    \"line_width\": 3\n",
    "}\n",
    "Example.run(JupyterGui, gui_settings=gui_settings)"
   ]
  },
  {
   "cell_type": "code",
   "execution_count": 3,
   "id": "53c73b9b-ac39-4d26-a290-4db51d75caa2",
   "metadata": {},
   "outputs": [
    {
     "name": "stdout",
     "output_type": "stream",
     "text": [
      "42\n"
     ]
    },
    {
     "data": {
      "application/vnd.jupyter.widget-view+json": {
       "model_id": "85c84a3a78e04664a513733bbef8d16d",
       "version_major": 2,
       "version_minor": 0
      },
      "text/plain": [
       "Output()"
      ]
     },
     "metadata": {},
     "output_type": "display_data"
    }
   ],
   "source": [
    "from lf import LiquidFun  as Example\n",
    "from testbed.backend.jupyter import JupyterGui\n",
    "res = (1000,600)\n",
    "gui_settings = {\n",
    "    \"fps\" : 30,\n",
    "    \"scale\" : 40,\n",
    "    \"translate\" : (100, 500),\n",
    "    \"resolution\" :res,\n",
    "    \"line_width\": 3,\n",
    "    \"id\": 42\n",
    "}\n",
    "Example.run(JupyterGui, gui_settings=gui_settings)"
   ]
  },
  {
   "cell_type": "code",
   "execution_count": 5,
   "id": "ee12c327-ed4b-4976-8772-c986ecc62b39",
   "metadata": {},
   "outputs": [
    {
     "name": "stdout",
     "output_type": "stream",
     "text": [
      "42\n"
     ]
    },
    {
     "data": {
      "application/vnd.jupyter.widget-view+json": {
       "model_id": "02ffbf6fb85549c6a034c2e871ec332a",
       "version_major": 2,
       "version_minor": 0
      },
      "text/plain": [
       "Output()"
      ]
     },
     "metadata": {},
     "output_type": "display_data"
    }
   ],
   "source": [
    "import pybox2d as b2\n",
    "import random\n",
    "from testbed import TestbedBase\n",
    "import random\n",
    "import numpy\n",
    "import pybox2d as b2\n",
    "\n",
    "class MyExample(TestbedBase):\n",
    "\n",
    "    name = \"my example\"\n",
    "    \n",
    "    def __init__(self): \n",
    "        super(MyExample, self).__init__()\n",
    "    \n",
    "        dimensions = [50,50]\n",
    "        \n",
    "        # the outer box\n",
    "        box_shape = b2.ChainShape()\n",
    "        box_shape.create_loop([\n",
    "                (0,0),\n",
    "                (0,dimensions[1]),\n",
    "                (dimensions[0],dimensions[1]),\n",
    "                (dimensions[0],0)\n",
    "            ]\n",
    "        )\n",
    "        box = self.world.create_static_body( position=(0, 0), shape = box_shape)\n",
    "    \n",
    "        for i in range(100):\n",
    "\n",
    "            self.world.create_dynamic_body(\n",
    "                position=(25 + random.random()*10, 25 + random.random()*10 ), shape=b2.circle_shape(radius=1)\n",
    "            ,density=1.0)\n",
    "\n",
    "from testbed.backend.jupyter import JupyterGui\n",
    "res = (1000,600)\n",
    "gui_settings = {\n",
    "    \"fps\" : 30,\n",
    "    \"scale\" : 10,\n",
    "    \"translate\" : (100, 500),\n",
    "    \"resolution\" :res,\n",
    "    \"line_width\": 3,\n",
    "    \"id\":42\n",
    "}\n",
    "MyExample.run(JupyterGui, gui_settings=gui_settings)"
   ]
  },
  {
   "cell_type": "code",
   "execution_count": 11,
   "id": "4d4fce1c-89df-4001-a0be-0be06d68a52a",
   "metadata": {},
   "outputs": [],
   "source": [
    "from IPython.core.magic import (register_line_magic, register_cell_magic,\n",
    "                                register_line_cell_magic)\n",
    "@register_cell_magic\n",
    "def cmagic(line, cell):\n",
    "    print(\"my cell magic\",\"line\",line,\"cell\",cell)\n",
    "    return line, cell"
   ]
  },
  {
   "cell_type": "code",
   "execution_count": 12,
   "id": "024077c8-bd01-448e-9eca-7353ee8201e2",
   "metadata": {},
   "outputs": [
    {
     "name": "stdout",
     "output_type": "stream",
     "text": [
      "my cell magic line  cell a = \"2\"\n",
      "\n"
     ]
    },
    {
     "data": {
      "text/plain": [
       "('', 'a = \"2\"\\n')"
      ]
     },
     "execution_count": 12,
     "metadata": {},
     "output_type": "execute_result"
    }
   ],
   "source": [
    "%%cmagic\n",
    "a = \"2\""
   ]
  },
  {
   "cell_type": "code",
   "execution_count": 46,
   "id": "4cb36efd-df26-4145-acb4-97b9543d5c8c",
   "metadata": {},
   "outputs": [
    {
     "name": "stderr",
     "output_type": "stream",
     "text": [
      "UsageError: Missing module name.\n"
     ]
    }
   ],
   "source": [
    "%load_ext\n",
    "import IPython\n",
    "class VarWatcher(object):\n",
    "    def __init__(self, ip):\n",
    "        self.shell = ip\n",
    "        self.last_x = None\n",
    "\n",
    "    def pre_execute(self):\n",
    "        self.last_x = self.shell.user_ns.get('x', None)\n",
    "\n",
    "    def pre_run_cell(self, info):\n",
    "        print('Cell code: \"%s\"' % info.raw_cell)\n",
    "\n",
    "    def post_execute(self):\n",
    "        if self.shell.user_ns.get('x', None) != self.last_x:\n",
    "            print(\"x changed!\")\n",
    "\n",
    "    def post_run_cell(self, result):\n",
    "        print('Cell code: \"%s\"' % result.info.raw_cell)\n",
    "        if result.error_before_exec:\n",
    "            print('Error before execution: %s' % result.error_before_exec)\n",
    "\n",
    "def load_ipython_extension(ip):\n",
    "    vw = VarWatcher(ip)\n",
    "    ip.events.register('pre_execute', vw.pre_execute)\n",
    "    ip.events.register('pre_run_cell', vw.pre_run_cell)\n",
    "    ip.events.register('post_execute', vw.post_execute)\n",
    "    ip.events.register('post_run_cell', vw.post_run_cell)\n",
    "    \n",
    "x = 2"
   ]
  },
  {
   "cell_type": "code",
   "execution_count": 1,
   "id": "afdceb4c-330e-4486-85d7-0439ca877760",
   "metadata": {},
   "outputs": [],
   "source": [
    "watching_memory = True\n",
    "ip = get_ipython()\n",
    "\n",
    "def pre_run_cell( info):\n",
    "    print(\"pre_run_cell:\",info)\n",
    "def post_run_cell( info):\n",
    "    print(\"post_run_cell:\",info)\n",
    "\n",
    "    ip.events.register(\"post_run_cell\", post_run_cell)\n",
    "ip.events.register(\"pre_run_cell\", pre_run_cell) "
   ]
  },
  {
   "cell_type": "code",
   "execution_count": 12,
   "id": "f0fb213a-c4c4-4bb1-8b23-e34ed6754eb9",
   "metadata": {},
   "outputs": [
    {
     "name": "stdout",
     "output_type": "stream",
     "text": [
      "pre_run_cell: <ExecutionInfo object at 7fc9346b79d0, raw_cell=\"print(\"a\")\" store_history=True silent=False shell_futures=True>\n",
      "a\n"
     ]
    }
   ],
   "source": [
    "print(\"a\")"
   ]
  }
 ],
 "metadata": {
  "kernelspec": {
   "display_name": "Python 3 (ipykernel)",
   "language": "python",
   "name": "python3"
  },
  "language_info": {
   "codemirror_mode": {
    "name": "ipython",
    "version": 3
   },
   "file_extension": ".py",
   "mimetype": "text/x-python",
   "name": "python",
   "nbconvert_exporter": "python",
   "pygments_lexer": "ipython3",
   "version": "3.9.7"
  }
 },
 "nbformat": 4,
 "nbformat_minor": 5
}
