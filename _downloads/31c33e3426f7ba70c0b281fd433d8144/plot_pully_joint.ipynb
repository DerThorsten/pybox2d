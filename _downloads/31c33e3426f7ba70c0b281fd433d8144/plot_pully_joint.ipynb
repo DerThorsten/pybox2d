{
  "cells": [
    {
      "cell_type": "code",
      "execution_count": null,
      "metadata": {
        "collapsed": false
      },
      "outputs": [],
      "source": [
        "%matplotlib inline"
      ]
    },
    {
      "cell_type": "markdown",
      "metadata": {},
      "source": [
        "\n# Pully Joint\n\nCreate a pully joint\n"
      ]
    },
    {
      "cell_type": "markdown",
      "metadata": {},
      "source": [
        "## Imports\n\npyb2d is imported as `b2d`\n\n"
      ]
    },
    {
      "cell_type": "code",
      "execution_count": null,
      "metadata": {
        "collapsed": false
      },
      "outputs": [],
      "source": [
        "import b2d\nimport numpy as np"
      ]
    },
    {
      "cell_type": "markdown",
      "metadata": {},
      "source": [
        "These imports are only needed for plotting.\n`b2d.plot` requires OpenCV to be installed!\n\n"
      ]
    },
    {
      "cell_type": "code",
      "execution_count": null,
      "metadata": {
        "collapsed": false
      },
      "outputs": [],
      "source": [
        "import b2d.plot\nimport matplotlib.pyplot as plt"
      ]
    },
    {
      "cell_type": "markdown",
      "metadata": {},
      "source": [
        "pully joint\n\n"
      ]
    },
    {
      "cell_type": "code",
      "execution_count": null,
      "metadata": {
        "collapsed": false
      },
      "outputs": [],
      "source": [
        "world = b2d.world(gravity=(0, -10))\n\n\na = world.create_dynamic_body(\n    position=(-5, 0),\n    fixtures=b2d.fixture_def(shape=b2d.polygon_shape(box=[2, 0.8]), density=1),\n    linear_damping=0.0,\n    angular_damping=0.0,\n)\nb = world.create_dynamic_body(\n    position=(5, 0),\n    fixtures=b2d.fixture_def(shape=b2d.polygon_shape(box=[2, 0.5]), density=1),\n    linear_damping=0.0,\n    angular_damping=0.0,\n)\nworld.create_pully_joint(\n    a,\n    b,\n    length_a=10,\n    length_b=10,\n    ground_anchor_a=(-5, 10),\n    ground_anchor_b=(5, 10),\n    local_anchor_a=(0, 0),\n    local_anchor_b=(0, 0),\n)\n\nfig, ax, ani = b2d.plot.animate_world(world, world_margin=(20, 20))\nani\nplt.show()"
      ]
    }
  ],
  "metadata": {
    "kernelspec": {
      "display_name": "Python 3",
      "language": "python",
      "name": "python3"
    },
    "language_info": {
      "codemirror_mode": {
        "name": "ipython",
        "version": 3
      },
      "file_extension": ".py",
      "mimetype": "text/x-python",
      "name": "python",
      "nbconvert_exporter": "python",
      "pygments_lexer": "ipython3",
      "version": "3.8.10"
    }
  },
  "nbformat": 4,
  "nbformat_minor": 0
}