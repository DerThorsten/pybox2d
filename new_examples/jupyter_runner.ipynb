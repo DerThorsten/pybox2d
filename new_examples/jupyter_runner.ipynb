{
 "cells": [
  {
   "cell_type": "code",
   "execution_count": 1,
   "id": "a5fbda2c-57bf-475e-a154-71203add6efd",
   "metadata": {},
   "outputs": [
    {
     "data": {
      "application/vnd.jupyter.widget-view+json": {
       "model_id": "c79733c854c742ef82a204c78a3eede4",
       "version_major": 2,
       "version_minor": 0
      },
      "text/plain": [
       "Output()"
      ]
     },
     "metadata": {},
     "output_type": "display_data"
    },
    {
     "name": "stdout",
     "output_type": "stream",
     "text": [
      "8\n"
     ]
    }
   ],
   "source": [
    "from gauss_machine import GaussMachine\n",
    "\n",
    "from testbed.backend.jupyter import JupyterGui\n",
    "res = (1000,400)\n",
    "gui_settings = {\n",
    "    \"fps\" : 30,\n",
    "    \"scale\" : 15,\n",
    "    \"translate\" : (-100, 350),\n",
    "    \"resolution\" :res,\n",
    "    \"line_width\": 3\n",
    "}\n",
    "GaussMachine.run(JupyterGui, gui_settings=gui_settings)\n"
   ]
  },
  {
   "cell_type": "code",
   "execution_count": null,
   "id": "e8baf9ae-0f43-42ff-8f40-7cb7ed489062",
   "metadata": {},
   "outputs": [],
   "source": []
  },
  {
   "cell_type": "code",
   "execution_count": null,
   "id": "cbeba63d-c009-41f6-8e01-fb3e94a6d722",
   "metadata": {},
   "outputs": [],
   "source": []
  }
 ],
 "metadata": {
  "kernelspec": {
   "display_name": "Python 3 (ipykernel)",
   "language": "python",
   "name": "python3"
  },
  "language_info": {
   "codemirror_mode": {
    "name": "ipython",
    "version": 3
   },
   "file_extension": ".py",
   "mimetype": "text/x-python",
   "name": "python",
   "nbconvert_exporter": "python",
   "pygments_lexer": "ipython3",
   "version": "3.9.7"
  }
 },
 "nbformat": 4,
 "nbformat_minor": 5
}
