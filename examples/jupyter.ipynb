{
 "cells": [
  {
   "cell_type": "code",
   "execution_count": 1,
   "id": "00cd4547-2bb3-4fb2-aeda-196f6460ef7a",
   "metadata": {},
   "outputs": [
    {
     "ename": "ModuleNotFoundError",
     "evalue": "No module named 'b2d.testbed'",
     "output_type": "error",
     "traceback": [
      "\u001b[0;31m---------------------------------------------------------------------------\u001b[0m",
      "\u001b[0;31mModuleNotFoundError\u001b[0m                       Traceback (most recent call last)",
      "\u001b[0;32m/tmp/ipykernel_44481/3688545543.py\u001b[0m in \u001b[0;36m<module>\u001b[0;34m\u001b[0m\n\u001b[0;32m----> 1\u001b[0;31m \u001b[0;32mfrom\u001b[0m \u001b[0mgauss_machine\u001b[0m \u001b[0;32mimport\u001b[0m \u001b[0mGaussMachine\u001b[0m  \u001b[0;32mas\u001b[0m \u001b[0mExample\u001b[0m\u001b[0;34m\u001b[0m\u001b[0;34m\u001b[0m\u001b[0m\n\u001b[0m\u001b[1;32m      2\u001b[0m \u001b[0;32mfrom\u001b[0m \u001b[0mb2d\u001b[0m\u001b[0;34m.\u001b[0m\u001b[0mtestbed\u001b[0m\u001b[0;34m.\u001b[0m\u001b[0mbackend\u001b[0m\u001b[0;34m.\u001b[0m\u001b[0mjupyter\u001b[0m \u001b[0;32mimport\u001b[0m \u001b[0mJupyterGui\u001b[0m\u001b[0;34m\u001b[0m\u001b[0;34m\u001b[0m\u001b[0m\n\u001b[1;32m      3\u001b[0m \u001b[0mres\u001b[0m \u001b[0;34m=\u001b[0m \u001b[0;34m(\u001b[0m\u001b[0;36m400\u001b[0m\u001b[0;34m,\u001b[0m\u001b[0;36m400\u001b[0m\u001b[0;34m)\u001b[0m\u001b[0;34m\u001b[0m\u001b[0;34m\u001b[0m\u001b[0m\n\u001b[1;32m      4\u001b[0m gui_settings = {\n\u001b[1;32m      5\u001b[0m     \u001b[0;34m\"fps\"\u001b[0m \u001b[0;34m:\u001b[0m \u001b[0;36m30\u001b[0m\u001b[0;34m,\u001b[0m\u001b[0;34m\u001b[0m\u001b[0;34m\u001b[0m\u001b[0m\n",
      "\u001b[0;32m~/src/pybox2d/new_examples/gauss_machine.py\u001b[0m in \u001b[0;36m<module>\u001b[0;34m\u001b[0m\n\u001b[0;32m----> 1\u001b[0;31m \u001b[0;32mfrom\u001b[0m \u001b[0mb2d\u001b[0m\u001b[0;34m.\u001b[0m\u001b[0mtestbed\u001b[0m \u001b[0;32mimport\u001b[0m \u001b[0mTestbedBase\u001b[0m\u001b[0;34m\u001b[0m\u001b[0;34m\u001b[0m\u001b[0m\n\u001b[0m\u001b[1;32m      2\u001b[0m \u001b[0;32mimport\u001b[0m \u001b[0mrandom\u001b[0m\u001b[0;34m\u001b[0m\u001b[0;34m\u001b[0m\u001b[0m\n\u001b[1;32m      3\u001b[0m \u001b[0;32mimport\u001b[0m \u001b[0mnumpy\u001b[0m\u001b[0;34m\u001b[0m\u001b[0;34m\u001b[0m\u001b[0m\n\u001b[1;32m      4\u001b[0m \u001b[0;32mimport\u001b[0m \u001b[0mb2d\u001b[0m\u001b[0;34m\u001b[0m\u001b[0;34m\u001b[0m\u001b[0m\n\u001b[1;32m      5\u001b[0m \u001b[0;34m\u001b[0m\u001b[0m\n",
      "\u001b[0;31mModuleNotFoundError\u001b[0m: No module named 'b2d.testbed'"
     ]
    }
   ],
   "source": [
    "from gauss_machine import GaussMachine  as Example\n",
    "from b2d.testbed.backend.jupyter import JupyterGui\n",
    "res = (400,400)\n",
    "gui_settings = {\n",
    "    \"fps\" : 30,\n",
    "    \"scale\" : 10,\n",
    "    \"translate\" : (50, 370),\n",
    "    \"resolution\" :res,\n",
    "    \"line_width\": 3,\n",
    "    \"id\": \"gauss_machine\"\n",
    "}\n",
    "Example.run(JupyterGui, gui_settings=gui_settings)"
   ]
  },
  {
   "cell_type": "code",
   "execution_count": null,
   "id": "bbb421bb-5263-49fc-8cfa-9d3ceca47c12",
   "metadata": {},
   "outputs": [],
   "source": [
    "from color_mixing import ColorMixing  as Example\n",
    "from b2d.testbed.backend.jupyter import JupyterGui\n",
    "res = (400,400)\n",
    "gui_settings = {\n",
    "    \"fps\" : 30,\n",
    "    \"scale\" : 30,\n",
    "    \"translate\" : (50, 370),\n",
    "    \"resolution\" :res,\n",
    "    \"line_width\": 3,\n",
    "    \"id\": \"color_mixing\"\n",
    "}\n",
    "Example.run(JupyterGui, gui_settings=gui_settings)"
   ]
  }
 ],
 "metadata": {
  "kernelspec": {
   "display_name": "Python 3 (ipykernel)",
   "language": "python",
   "name": "python3"
  },
  "language_info": {
   "codemirror_mode": {
    "name": "ipython",
    "version": 3
   },
   "file_extension": ".py",
   "mimetype": "text/x-python",
   "name": "python",
   "nbconvert_exporter": "python",
   "pygments_lexer": "ipython3",
   "version": "3.9.7"
  }
 },
 "nbformat": 4,
 "nbformat_minor": 5
}
