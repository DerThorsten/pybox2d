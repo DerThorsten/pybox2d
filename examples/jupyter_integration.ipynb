{
 "cells": [
  {
   "cell_type": "code",
   "execution_count": null,
   "id": "ed27b2aa",
   "metadata": {},
   "outputs": [],
   "source": [
    "from b2d.testbed.backend.jupyter import JupyterGui\n",
    "import ipywidgets\n",
    "import ipycanvas\n",
    "import b2d\n",
    "import random"
   ]
  },
  {
   "cell_type": "markdown",
   "id": "92c5d584-397a-4775-bbb8-6f5947f3a931",
   "metadata": {},
   "source": [
    "# Newtons Cradle\n",
    "Here we try to implement \n",
    "[newtons cradle](https://en.wikipedia.org/wiki/Newton%27s_cradle) in Box2D\n",
    "The source code for the example is in `plot_newtons_cradle.py`\n",
    "\n",
    "![Image](https://upload.wikimedia.org/wikipedia/commons/d/d3/Newtons_cradle_animation_book_2.gif)"
   ]
  },
  {
   "cell_type": "code",
   "execution_count": null,
   "id": "e691f962",
   "metadata": {},
   "outputs": [],
   "source": [
    "from plot_newtons_cradle import NewtonsCradle as Example\n",
    "\n",
    "s = JupyterGui.Settings(resolution=[800, 300])\n",
    "Example.run(JupyterGui, gui_settings=s)"
   ]
  },
  {
   "cell_type": "markdown",
   "id": "fc75075f-8319-49ca-8cf4-6c27790a4f10",
   "metadata": {},
   "source": [
    "<p style=text-align: center>\n",
    "    <img src=https://upload.wikimedia.org/wikipedia/commons/thumb/5/52/Angry_Birds_logo_2015.svg/2880px-Angry_Birds_logo_2015.svg.png width=30%>\n",
    "</p>\n",
    "The following shows an example simmilar to the game \"Angry Birds\"\n",
    "   "
   ]
  },
  {
   "cell_type": "code",
   "execution_count": null,
   "id": "2db8e245-935e-4584-8d07-e7108359bfc1",
   "metadata": {},
   "outputs": [],
   "source": [
    "from plot_angry_shapes import AngryShapes as Example\n",
    "\n",
    "settings = JupyterGui.Settings(\n",
    "    fps=30, scale=2, translate=(20, 100), resolution=(1000, 500)\n",
    ")\n",
    "Example.run(JupyterGui, gui_settings=settings)"
   ]
  },
  {
   "cell_type": "markdown",
   "id": "cd5c9201-7510-451c-9f8b-d839edcdcd31",
   "metadata": {},
   "source": [
    "# Rockets\n",
    "Fly a rocket from one plant to another.\n",
    "Use 'a','w','d' to fire the rockets engines,\n",
    "but avoid the black hole!"
   ]
  },
  {
   "cell_type": "code",
   "execution_count": null,
   "id": "1c6413f3-b58b-4961-8d59-cbdfab026657",
   "metadata": {},
   "outputs": [],
   "source": [
    "from plot_rocket import Rocket as Example\n",
    "\n",
    "settings = JupyterGui.Settings(scale=3)\n",
    "Example.run(JupyterGui, gui_settings=settings)"
   ]
  },
  {
   "cell_type": "markdown",
   "id": "3332d8fa-bd93-44a3-987a-4d3ea5e02135",
   "metadata": {},
   "source": [
    "# Gauss Machine\n",
    "This example shows how to get a gaussian distribution from an uniform one with a mechanical decivce.\n",
    "Note that the particles have a lifetime of 25 seconds, so the bins will at some point not get fuller (but also your RAM will not get fuller ;) )"
   ]
  },
  {
   "cell_type": "code",
   "execution_count": null,
   "id": "1fa74c6a",
   "metadata": {},
   "outputs": [],
   "source": [
    "from plot_gauss_machine import GaussMachine as Example\n",
    "\n",
    "Example.run(JupyterGui)"
   ]
  },
  {
   "cell_type": "markdown",
   "id": "24fc9439-7316-41e1-b123-9a529e3cb398",
   "metadata": {},
   "source": [
    "# Color Mixing\n",
    "This example show the color mixing capabilities of liquidfun"
   ]
  },
  {
   "cell_type": "code",
   "execution_count": null,
   "id": "61148397",
   "metadata": {},
   "outputs": [],
   "source": [
    "from plot_color_mixing import ColorMixing as Example\n",
    "\n",
    "Example.run(JupyterGui)"
   ]
  },
  {
   "cell_type": "markdown",
   "id": "a77bf158-567f-4866-a56e-9170505bd279",
   "metadata": {},
   "source": [
    "# Function Shape\n",
    "This example shows how to draw a chain shape in the shape of a function"
   ]
  },
  {
   "cell_type": "code",
   "execution_count": null,
   "id": "3e56f480",
   "metadata": {},
   "outputs": [],
   "source": [
    "from plot_function_shape import FunctionShape as Example\n",
    "\n",
    "Example.run(JupyterGui)"
   ]
  },
  {
   "cell_type": "markdown",
   "id": "6fcc377c-9eae-40dd-9429-7464ae3ba23a",
   "metadata": {},
   "source": [
    "# World of Goo Clone\n",
    "This example shows how to implement a worlf of goo clone with pyb2d"
   ]
  },
  {
   "cell_type": "code",
   "execution_count": null,
   "id": "8791a38e-baee-46e0-8c1c-6433fc16ad5a",
   "metadata": {},
   "outputs": [],
   "source": [
    "from plot_goo import Goo as Example\n",
    "\n",
    "Example.run(JupyterGui)"
   ]
  },
  {
   "cell_type": "markdown",
   "id": "42b08cd7-73d2-45b6-ad2b-67e96d0f165e",
   "metadata": {},
   "source": [
    "# Live Interaction from Cells\n",
    "Here we define a testworld and interact from the cells below with the world"
   ]
  },
  {
   "cell_type": "code",
   "execution_count": null,
   "id": "ce70fe3e-0430-4ff6-b94d-a1ad488dc880",
   "metadata": {},
   "outputs": [],
   "source": [
    "class LiveInteraction(b2d.testbed.TestbedBase):\n",
    "\n",
    "    name = \"live interaction\"\n",
    "\n",
    "    def __init__(self, settings=None):\n",
    "        super(LiveInteraction, self).__init__(settings=settings)\n",
    "        dimensions = [30, 30]\n",
    "\n",
    "        # the outer box\n",
    "        box_shape = b2d.ChainShape()\n",
    "        box_shape.create_loop(\n",
    "            [\n",
    "                (0, 0),\n",
    "                (0, dimensions[1]),\n",
    "                (dimensions[0], dimensions[1]),\n",
    "                (dimensions[0], 0),\n",
    "            ]\n",
    "        )\n",
    "        box = self.world.create_static_body(\n",
    "            position=(0, 0), fixtures=b2d.fixture_def(shape=box_shape, friction=0)\n",
    "        )\n",
    "        self.circle = self.world.create_dynamic_body(\n",
    "            position=(10 + random.random(), 10),\n",
    "            fixtures=b2d.fixture_def(shape=b2d.circle_shape(radius=1), density=1),\n",
    "        )\n",
    "\n",
    "\n",
    "ui = LiveInteraction.run(JupyterGui)"
   ]
  },
  {
   "cell_type": "code",
   "execution_count": null,
   "id": "bd5ee5e9-994c-44de-a80a-2e5c34158fd2",
   "metadata": {},
   "outputs": [],
   "source": [
    "circles = []"
   ]
  },
  {
   "cell_type": "code",
   "execution_count": null,
   "id": "3ab82ff3-8414-422c-ad01-57d434eb2eaa",
   "metadata": {},
   "outputs": [],
   "source": [
    "# insert a bodies into the running world\n",
    "import time\n",
    "\n",
    "\n",
    "world = ui.testbed.world\n",
    "for i in range(20):\n",
    "\n",
    "    with ui.world_lock:\n",
    "\n",
    "        circle = world.create_dynamic_body(\n",
    "            position=(10 + random.random(), 10),\n",
    "            fixtures=b2d.fixture_def(shape=b2d.circle_shape(radius=1), density=1),\n",
    "        )\n",
    "    time.sleep(0.1)\n",
    "    circles.append(circle)"
   ]
  },
  {
   "cell_type": "code",
   "execution_count": null,
   "id": "8dbcff35-575f-4037-85f2-0e239b596a2e",
   "metadata": {},
   "outputs": [],
   "source": [
    "# apply ian impulse to each second body\n",
    "for i in range(10):\n",
    "    with ui.world_lock:\n",
    "        for i in range(0, len(circles), 2):\n",
    "            circles[i].apply_linear_impulse_to_center((100, 10))\n",
    "    time.sleep(1)"
   ]
  },
  {
   "cell_type": "code",
   "execution_count": null,
   "id": "2f35041b-2854-4dbe-a6f5-52b9926babf3",
   "metadata": {},
   "outputs": [],
   "source": [
    "# experimental joystick support\n",
    "# this may not work properly\n",
    "from ipywidgets import Controller\n",
    "\n",
    "c = Controller()\n",
    "\n",
    "\n",
    "def cb(change):\n",
    "    values = [a.value * 200.0 for a in change[\"owner\"].axes]\n",
    "    if len(values) >= 2:\n",
    "        values[1] *= -1\n",
    "        circle = circles[0]\n",
    "        with ui.world_lock:\n",
    "            circle.apply_force_to_center(tuple(values[0:2]), True)\n",
    "\n",
    "\n",
    "c.observe(cb)\n",
    "c"
   ]
  }
 ],
 "metadata": {
  "kernelspec": {
   "display_name": "Python 3 (ipykernel)",
   "language": "python",
   "name": "python3"
  },
  "language_info": {
   "codemirror_mode": {
    "name": "ipython",
    "version": 3
   },
   "file_extension": ".py",
   "mimetype": "text/x-python",
   "name": "python",
   "nbconvert_exporter": "python",
   "pygments_lexer": "ipython3",
   "version": "3.10.4"
  }
 },
 "nbformat": 4,
 "nbformat_minor": 5
}
