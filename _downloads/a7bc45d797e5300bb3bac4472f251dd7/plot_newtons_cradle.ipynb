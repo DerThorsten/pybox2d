{
  "cells": [
    {
      "cell_type": "code",
      "execution_count": null,
      "metadata": {
        "collapsed": false
      },
      "outputs": [],
      "source": [
        "%matplotlib inline"
      ]
    },
    {
      "cell_type": "markdown",
      "metadata": {},
      "source": [
        "\n# Newtons Cradle\n\nThis example shows how to implement newtons cradle with b2d\n"
      ]
    },
    {
      "cell_type": "code",
      "execution_count": null,
      "metadata": {
        "collapsed": false
      },
      "outputs": [],
      "source": [
        "from b2d.testbed import TestbedBase\nimport b2d\n\n\nclass NewtonsCradle(TestbedBase):\n\n    name = \"newton's cradle\"\n\n    def __init__(self, settings=None):\n        super(NewtonsCradle, self).__init__(settings=settings)\n\n        # radius of the circles\n        r = 1.0\n        # length of the rope\n        l = 10.0\n        # how many balls\n        n = 10\n\n        offset = (l + r, 2 * r)\n        dynamic_circles = []\n        static_bodies = []\n        for i in range(n):\n            if i + 1 == n:\n                position = (offset[0] + i * 2 * r + l, offset[1] + l)\n            else:\n                position = (offset[0] + i * 2 * r, offset[1])\n\n            circle = self.world.create_dynamic_body(\n                position=position,\n                fixtures=b2d.fixture_def(\n                    shape=b2d.circle_shape(radius=r * 0.90),\n                    density=1.0,\n                    restitution=1.0,\n                    friction=0.0,\n                ),\n                linear_damping=0.01,\n                angular_damping=1.0,\n                fixed_rotation=True,\n            )\n            dynamic_circles.append(circle)\n\n            static_body = self.world.create_static_body(\n                position=(offset[0] + i * 2 * r, offset[1] + l)\n            )\n\n            self.world.create_distance_joint(\n                static_body,\n                circle,\n                local_anchor_a=(0, 0),\n                local_anchor_b=(0, 0),\n                max_length=l,\n                stiffness=0,\n            )\n\n            static_bodies.append(static_body)\n\n\nif __name__ == \"__main__\":\n\n    ani = b2d.testbed.run(NewtonsCradle)\n    ani"
      ]
    }
  ],
  "metadata": {
    "kernelspec": {
      "display_name": "Python 3",
      "language": "python",
      "name": "python3"
    },
    "language_info": {
      "codemirror_mode": {
        "name": "ipython",
        "version": 3
      },
      "file_extension": ".py",
      "mimetype": "text/x-python",
      "name": "python",
      "nbconvert_exporter": "python",
      "pygments_lexer": "ipython3",
      "version": "3.8.10"
    }
  },
  "nbformat": 4,
  "nbformat_minor": 0
}