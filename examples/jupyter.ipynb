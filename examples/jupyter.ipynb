{
 "cells": [
  {
   "cell_type": "code",
   "execution_count": null,
   "id": "c4b401ab-5c2f-46db-b051-38e186fa614e",
   "metadata": {},
   "outputs": [],
   "source": [
    "from b2d.testbed.backend.jupyter import JupyterGui"
   ]
  },
  {
   "cell_type": "code",
   "execution_count": null,
   "id": "d36b18ec-cfb1-4791-809e-35a7f7f642db",
   "metadata": {},
   "outputs": [],
   "source": [
    "from plot_newtons_cradle import NewtonsCradle  as Example\n",
    "gui_settings = {\n",
    "    \"id\": Example\n",
    "}\n",
    "Example.run(JupyterGui, gui_settings=gui_settings)"
   ]
  },
  {
   "cell_type": "code",
   "execution_count": null,
   "id": "a06fb599",
   "metadata": {},
   "outputs": [],
   "source": [
    "from plot_blender import Blender  as Example\n",
    "gui_settings = {\n",
    "    \"id\": Example\n",
    "}\n",
    "Example.run(JupyterGui, gui_settings=gui_settings)"
   ]
  },
  {
   "cell_type": "code",
   "execution_count": null,
   "id": "00cd4547-2bb3-4fb2-aeda-196f6460ef7a",
   "metadata": {},
   "outputs": [],
   "source": [
    "from plot_gauss_machine import GaussMachine  as Example\n",
    "gui_settings = {\n",
    "    \"id\": Example\n",
    "}\n",
    "Example.run(JupyterGui, gui_settings=gui_settings)"
   ]
  },
  {
   "cell_type": "code",
   "execution_count": null,
   "id": "bbb421bb-5263-49fc-8cfa-9d3ceca47c12",
   "metadata": {},
   "outputs": [],
   "source": [
    "from plot_color_mixing import ColorMixing  as Example\n",
    "gui_settings = {\n",
    "    \"id\": Example\n",
    "}\n",
    "Example.run(JupyterGui, gui_settings=gui_settings)"
   ]
  },
  {
   "cell_type": "code",
   "execution_count": null,
   "id": "da88794e-8fe3-4235-aa11-bd4ac5622b32",
   "metadata": {},
   "outputs": [],
   "source": [
    "from plot_function_shape import FunctionShape  as Example\n",
    "res = (400,400)\n",
    "gui_settings = {\n",
    "    \"id\": Example\n",
    "}\n",
    "Example.run(JupyterGui, gui_settings=gui_settings)"
   ]
  }
 ],
 "metadata": {
  "kernelspec": {
   "display_name": "Python 3 (ipykernel)",
   "language": "python",
   "name": "python3"
  },
  "language_info": {
   "codemirror_mode": {
    "name": "ipython",
    "version": 3
   },
   "file_extension": ".py",
   "mimetype": "text/x-python",
   "name": "python",
   "nbconvert_exporter": "python",
   "pygments_lexer": "ipython3",
   "version": "3.9.7"
  }
 },
 "nbformat": 4,
 "nbformat_minor": 5
}
