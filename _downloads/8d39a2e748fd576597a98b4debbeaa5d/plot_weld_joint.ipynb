{
  "cells": [
    {
      "cell_type": "code",
      "execution_count": null,
      "metadata": {
        "collapsed": false
      },
      "outputs": [],
      "source": [
        "%matplotlib inline"
      ]
    },
    {
      "cell_type": "markdown",
      "metadata": {},
      "source": [
        "\n# Weld Joint\n\nCreate weld joints\n\nUses:\n    * :class:`b2d.WeldJointDef`\n    * :class:`b2d.WeldJoint`\n"
      ]
    },
    {
      "cell_type": "markdown",
      "metadata": {},
      "source": [
        "## Imports\n\npyb2d is imported as `b2d`\n\n"
      ]
    },
    {
      "cell_type": "code",
      "execution_count": null,
      "metadata": {
        "collapsed": false
      },
      "outputs": [],
      "source": [
        "import b2d\nimport numpy as np\nimport math"
      ]
    },
    {
      "cell_type": "markdown",
      "metadata": {},
      "source": [
        "These imports are only needed for plotting.\n`b2d.plot` requires OpenCV to be installed!\n\n"
      ]
    },
    {
      "cell_type": "code",
      "execution_count": null,
      "metadata": {
        "collapsed": false
      },
      "outputs": [],
      "source": [
        "import b2d.plot\nimport matplotlib.pyplot as plt"
      ]
    },
    {
      "cell_type": "markdown",
      "metadata": {},
      "source": [
        "The first step with Box2D is the creation\nof the world. The world is parametrized by a gravity\nvector.\n\n"
      ]
    },
    {
      "cell_type": "code",
      "execution_count": null,
      "metadata": {
        "collapsed": false
      },
      "outputs": [],
      "source": [
        "# the world\nworld = b2d.world(gravity=(0, -10))\n\n\nbodies = []\n\n# create  a static body as anchor\nb = world.create_static_body(\n    position=(0, 4), fixtures=b2d.fixture_def(shape=b2d.polygon_shape(box=[0.3, 0.5]))\n)\nbodies.append(b)\n\nfor i in range(10):\n    b = world.create_dynamic_body(\n        position=(i + 1.0, 4),\n        fixtures=b2d.fixture_def(shape=b2d.polygon_shape(box=[0.3, 0.5]), density=0.1),\n        linear_damping=2.5,\n        angular_damping=2.5,\n    )\n    bodies.append(b)\n\nfor i in range(len(bodies) - 1):\n    a = bodies[i]\n    b = bodies[i + 1]\n    world.create_weld_joint(\n        a,\n        b,\n        local_anchor_a=(0.5, 0.5),\n        local_anchor_b=(-0.5, 0.5),\n        damping=0.1,\n        reference_angle=0,\n        stiffness=20,\n    )\n    world.create_weld_joint(\n        a,\n        b,\n        local_anchor_a=(0.5, -0.5),\n        local_anchor_b=(-0.5, -0.5),\n        damping=0.1,\n        reference_angle=0,\n        stiffness=20,\n    )\n\n\nfig, ax, ani = b2d.plot.animate_world(world, world_margin=(10, 10))\nani\nplt.show()"
      ]
    }
  ],
  "metadata": {
    "kernelspec": {
      "display_name": "Python 3",
      "language": "python",
      "name": "python3"
    },
    "language_info": {
      "codemirror_mode": {
        "name": "ipython",
        "version": 3
      },
      "file_extension": ".py",
      "mimetype": "text/x-python",
      "name": "python",
      "nbconvert_exporter": "python",
      "pygments_lexer": "ipython3",
      "version": "3.8.10"
    }
  },
  "nbformat": 4,
  "nbformat_minor": 0
}