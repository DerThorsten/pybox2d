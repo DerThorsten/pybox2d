{
 "cells": [
  {
   "cell_type": "code",
   "execution_count": 1,
   "id": "ed27b2aa",
   "metadata": {},
   "outputs": [],
   "source": [
    "from b2d.testbed.backend.jupyter import JupyterGui\n",
    "import ipywidgets\n",
    "import ipycanvas\n",
    "import b2d"
   ]
  },
  {
   "cell_type": "markdown",
   "id": "92c5d584-397a-4775-bbb8-6f5947f3a931",
   "metadata": {},
   "source": [
    "# Newtons Cradle\n",
    "Here we try to implement \n",
    "[newtons cradle](https://en.wikipedia.org/wiki/Newton%27s_cradle) in Box2D\n",
    "The source code for the example is in `plot_newtons_cradle.py`\n",
    "\n",
    "![Image](https://upload.wikimedia.org/wikipedia/commons/d/d3/Newtons_cradle_animation_book_2.gif)"
   ]
  },
  {
   "cell_type": "code",
   "execution_count": null,
   "id": "e691f962",
   "metadata": {},
   "outputs": [],
   "source": [
    "from plot_newtons_cradle import NewtonsCradle  as Example\n",
    "s = JupyterGui.Settings(resolution=[800,300])\n",
    "Example.run(JupyterGui, gui_settings=s)"
   ]
  },
  {
   "cell_type": "markdown",
   "id": "fc75075f-8319-49ca-8cf4-6c27790a4f10",
   "metadata": {},
   "source": [
    "<p style=text-align: center>\n",
    "    <img src=https://upload.wikimedia.org/wikipedia/commons/thumb/5/52/Angry_Birds_logo_2015.svg/2880px-Angry_Birds_logo_2015.svg.png width=30%>\n",
    "</p>\n",
    "The following shows an example simmilar to the game \"Angry Birds\"\n",
    "   "
   ]
  },
  {
   "cell_type": "code",
   "execution_count": 17,
   "id": "2db8e245-935e-4584-8d07-e7108359bfc1",
   "metadata": {},
   "outputs": [
    {
     "data": {
      "application/vnd.jupyter.widget-view+json": {
       "model_id": "1f4d3bdeeb4847fabcea26bdee89b8d9",
       "version_major": 2,
       "version_minor": 0
      },
      "text/plain": [
       "Output()"
      ]
     },
     "metadata": {},
     "output_type": "display_data"
    },
    {
     "name": "stdout",
     "output_type": "stream",
     "text": [
      "AngryShapes.Settings(substeps=2, n_velocity_steps=1, n_position_iterations=1)\n"
     ]
    }
   ],
   "source": [
    "from plot_angry_shapes import AngryShapes  as Example\n",
    "settings = JupyterGui.Settings(fps=30, scale=2, translate=(20,100), resolution=(1000,500))\n",
    "Example.run(JupyterGui,gui_settings=settings)"
   ]
  },
  {
   "cell_type": "markdown",
   "id": "3332d8fa-bd93-44a3-987a-4d3ea5e02135",
   "metadata": {},
   "source": [
    "# Gauss Machine\n",
    "This example shows how to get a gaussian distribution from an uniform one with a mechanical decivce.\n",
    "Note that the particles have a lifetime of 25 seconds, so the bins will at some point not get fuller (but also your RAM will not get fuller ;) )"
   ]
  },
  {
   "cell_type": "code",
   "execution_count": 2,
   "id": "1fa74c6a",
   "metadata": {},
   "outputs": [
    {
     "data": {
      "application/vnd.jupyter.widget-view+json": {
       "model_id": "4f65645b317c4a499fac66de45040440",
       "version_major": 2,
       "version_minor": 0
      },
      "text/plain": [
       "Output()"
      ]
     },
     "metadata": {},
     "output_type": "display_data"
    },
    {
     "name": "stdout",
     "output_type": "stream",
     "text": [
      "TestbedBase.Settings(substeps=1, n_velocity_steps=1, n_position_iterations=1)\n"
     ]
    }
   ],
   "source": [
    "from plot_gauss_machine import GaussMachine  as Example\n",
    "Example.run(JupyterGui)"
   ]
  },
  {
   "cell_type": "markdown",
   "id": "24fc9439-7316-41e1-b123-9a529e3cb398",
   "metadata": {},
   "source": [
    "# Color Mixing\n",
    "This example show the color mixing capabilities of liquidfun"
   ]
  },
  {
   "cell_type": "code",
   "execution_count": 3,
   "id": "61148397",
   "metadata": {},
   "outputs": [
    {
     "data": {
      "application/vnd.jupyter.widget-view+json": {
       "model_id": "be5ccf472c384b088388644fdbf6310a",
       "version_major": 2,
       "version_minor": 0
      },
      "text/plain": [
       "Output()"
      ]
     },
     "metadata": {},
     "output_type": "display_data"
    },
    {
     "name": "stdout",
     "output_type": "stream",
     "text": [
      "TestbedBase.Settings(substeps=1, n_velocity_steps=1, n_position_iterations=1)\n"
     ]
    }
   ],
   "source": [
    "from plot_color_mixing import ColorMixing  as Example\n",
    "Example.run(JupyterGui)"
   ]
  },
  {
   "cell_type": "markdown",
   "id": "a77bf158-567f-4866-a56e-9170505bd279",
   "metadata": {},
   "source": [
    "# Function Shape\n",
    "This exanmple shows how to draw a chain shape in the shape of a function"
   ]
  },
  {
   "cell_type": "code",
   "execution_count": null,
   "id": "3e56f480",
   "metadata": {},
   "outputs": [],
   "source": [
    "from plot_function_shape import FunctionShape  as Example\n",
    "Example.run(JupyterGui)"
   ]
  },
  {
   "cell_type": "code",
   "execution_count": null,
   "id": "9d000355-0bd4-4e51-9994-3fc3e7af11d9",
   "metadata": {},
   "outputs": [],
   "source": []
  },
  {
   "cell_type": "code",
   "execution_count": null,
   "id": "8791a38e-baee-46e0-8c1c-6433fc16ad5a",
   "metadata": {},
   "outputs": [],
   "source": [
    "from plot_goo import Goo  as Example\n",
    "Example.run(JupyterGui)"
   ]
  },
  {
   "cell_type": "code",
   "execution_count": null,
   "id": "c9b3e654-47e4-4482-b9e5-5bab163006f9",
   "metadata": {},
   "outputs": [],
   "source": []
  },
  {
   "cell_type": "code",
   "execution_count": null,
   "id": "ce70fe3e-0430-4ff6-b94d-a1ad488dc880",
   "metadata": {},
   "outputs": [],
   "source": []
  }
 ],
 "metadata": {
  "kernelspec": {
   "display_name": "Python 3 (ipykernel)",
   "language": "python",
   "name": "python3"
  },
  "language_info": {
   "codemirror_mode": {
    "name": "ipython",
    "version": 3
   },
   "file_extension": ".py",
   "mimetype": "text/x-python",
   "name": "python",
   "nbconvert_exporter": "python",
   "pygments_lexer": "ipython3",
   "version": "3.9.7"
  }
 },
 "nbformat": 4,
 "nbformat_minor": 5
}
