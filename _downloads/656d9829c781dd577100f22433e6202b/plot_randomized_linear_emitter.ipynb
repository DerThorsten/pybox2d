{
  "cells": [
    {
      "cell_type": "code",
      "execution_count": null,
      "metadata": {
        "collapsed": false
      },
      "outputs": [],
      "source": [
        "%matplotlib inline"
      ]
    },
    {
      "cell_type": "markdown",
      "metadata": {},
      "source": [
        "\n# Emitter\n\nCreate a RandomizedLinearEmitter\n"
      ]
    },
    {
      "cell_type": "markdown",
      "metadata": {},
      "source": [
        "## Imports\n\n"
      ]
    },
    {
      "cell_type": "code",
      "execution_count": null,
      "metadata": {
        "collapsed": false
      },
      "outputs": [],
      "source": [
        "import b2d\nimport numpy as np\nimport b2d.plot\nimport matplotlib.pyplot as plt"
      ]
    },
    {
      "cell_type": "markdown",
      "metadata": {},
      "source": [
        "create world and a particle system\n\n"
      ]
    },
    {
      "cell_type": "code",
      "execution_count": null,
      "metadata": {
        "collapsed": false
      },
      "outputs": [],
      "source": [
        "world = b2d.world(gravity=(0, -10))\npdef = b2d.particle_system_def(radius=0.1)\npsystem = world.create_particle_system(pdef)"
      ]
    },
    {
      "cell_type": "markdown",
      "metadata": {},
      "source": [
        "create a  linear emitter\n\n"
      ]
    },
    {
      "cell_type": "code",
      "execution_count": null,
      "metadata": {
        "collapsed": false
      },
      "outputs": [],
      "source": [
        "emitter_pos = (0, 0)\nemitter_def = b2d.RandomizedLinearEmitterDef()\nemitter_def.emite_rate = 400\nemitter_def.lifetime = 5.1\nemitter_def.size = (2, 1)\n# emitter_def.transform = b2d.Transform(emitter_pos, b2d.Rot(0))\nemitter_def.velocity = (6, 20)\nemitter = b2d.RandomizedLinearEmitter(psystem, emitter_def)"
      ]
    },
    {
      "cell_type": "markdown",
      "metadata": {},
      "source": [
        "look at the world\n\n"
      ]
    },
    {
      "cell_type": "code",
      "execution_count": null,
      "metadata": {
        "collapsed": false
      },
      "outputs": [],
      "source": [
        "fig, ax, ani = b2d.plot.animate_world(\n    world, ppm=20, bounding_box=((-10, -20), (20, 15)), pre_step=emitter.step, t=5\n)\nani\nplt.show()"
      ]
    }
  ],
  "metadata": {
    "kernelspec": {
      "display_name": "Python 3",
      "language": "python",
      "name": "python3"
    },
    "language_info": {
      "codemirror_mode": {
        "name": "ipython",
        "version": 3
      },
      "file_extension": ".py",
      "mimetype": "text/x-python",
      "name": "python",
      "nbconvert_exporter": "python",
      "pygments_lexer": "ipython3",
      "version": "3.8.10"
    }
  },
  "nbformat": 4,
  "nbformat_minor": 0
}